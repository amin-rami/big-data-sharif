{
 "cells": [
  {
   "cell_type": "markdown",
   "metadata": {},
   "source": [
    "# Mohammad Amin Rami\n",
    "# HW3\n",
    "# 98101588"
   ]
  },
  {
   "cell_type": "code",
   "execution_count": 1,
   "metadata": {},
   "outputs": [],
   "source": [
    "import numpy as np\n",
    "import pandas as pd\n",
    "import matplotlib.pyplot as plt\n",
    "from pyspark import SparkContext, SparkConf\n",
    "from pyspark.sql import SparkSession\n",
    "import random"
   ]
  },
  {
   "cell_type": "code",
   "execution_count": 2,
   "metadata": {},
   "outputs": [
    {
     "name": "stderr",
     "output_type": "stream",
     "text": [
      "Setting default log level to \"WARN\".\n",
      "To adjust logging level use sc.setLogLevel(newLevel). For SparkR, use setLogLevel(newLevel).\n"
     ]
    },
    {
     "name": "stdout",
     "output_type": "stream",
     "text": [
      "23/01/23 22:19:22 WARN NativeCodeLoader: Unable to load native-hadoop library for your platform... using builtin-java classes where applicable\n"
     ]
    }
   ],
   "source": [
    "spark = SparkSession \\\n",
    "    .builder \\\n",
    "    .appName(\"Spark Processor\") \\\n",
    "    .master(\"local[*]\") \\\n",
    "    .getOrCreate()\n",
    "\n",
    "sc = spark.sparkContext"
   ]
  },
  {
   "cell_type": "markdown",
   "metadata": {},
   "source": [
    "### Part A"
   ]
  },
  {
   "cell_type": "code",
   "execution_count": 3,
   "metadata": {},
   "outputs": [
    {
     "name": "stdout",
     "output_type": "stream",
     "text": [
      "+-----------+---------+---------------+-------------+----------------+----------+-------------------+\n",
      "|DEVICE_CODE|SYSTEM_ID|ORIGINE_CAR_KEY|FINAL_CAR_KEY|CHECK_STATUS_KEY|COMPANY_ID|      PASS_DAY_TIME|\n",
      "+-----------+---------+---------------+-------------+----------------+----------+-------------------+\n",
      "|     200501|       81|       10477885|     10477885|               5|       161|2021-06-01 03:54:39|\n",
      "|        155|       81|       87625017|     87625017|               5|       161|2021-06-01 04:14:21|\n",
      "|     631757|       81|        8652928|      8652928|               5|       161|2021-06-01 03:58:57|\n",
      "|     631757|       81|        8548123|      8548123|               5|       161|2021-06-01 04:01:38|\n",
      "|     631757|       81|       24715264|     24715264|               5|       161|2021-06-01 03:56:57|\n",
      "|     206602|       81|       69939810|     69939810|               5|       161|2021-06-01 04:06:38|\n",
      "|     206602|       81|       11046172|     11046172|               5|       161|2021-06-01 04:03:59|\n",
      "|     206602|       81|        8334658|      8334658|               5|       161|2021-06-01 04:09:16|\n",
      "|     206602|       81|       29077699|     29077699|               5|       161|2021-06-01 04:11:01|\n",
      "|     206602|       81|       40682798|     40682798|               5|       161|2021-06-01 03:54:45|\n",
      "+-----------+---------+---------------+-------------+----------------+----------+-------------------+\n",
      "only showing top 10 rows\n",
      "\n"
     ]
    }
   ],
   "source": [
    "data_df = spark.read.csv('Sample_Data/Sample_Traffic.csv', header=True)\n",
    "data_df.show(10)"
   ]
  },
  {
   "cell_type": "code",
   "execution_count": 4,
   "metadata": {},
   "outputs": [],
   "source": [
    "# removing outliers\n",
    "data_df = data_df.filter(data_df['ORIGINE_CAR_KEY'] == data_df['FINAL_CAR_KEY'])"
   ]
  },
  {
   "cell_type": "code",
   "execution_count": 5,
   "metadata": {},
   "outputs": [
    {
     "name": "stderr",
     "output_type": "stream",
     "text": [
      "\r",
      "[Stage 2:>                                                          (0 + 8) / 8]\r"
     ]
    }
   ],
   "source": [
    "# create device codes rdd\n",
    "device_codes = data_df.select('DEVICE_CODE').distinct().rdd.map(lambda x: x['DEVICE_CODE']).sortBy(lambda x: int(x))"
   ]
  },
  {
   "cell_type": "code",
   "execution_count": 6,
   "metadata": {},
   "outputs": [
    {
     "name": "stderr",
     "output_type": "stream",
     "text": [
      "\r",
      "                                                                                \r"
     ]
    }
   ],
   "source": [
    "device_codes_dict = sc.broadcast({code: idx for idx, code in enumerate(device_codes.collect())})"
   ]
  },
  {
   "cell_type": "code",
   "execution_count": 7,
   "metadata": {},
   "outputs": [
    {
     "data": {
      "text/plain": [
       "[(('10477885', '2021-06-01 03:54'), '200501'),\n",
       " (('87625017', '2021-06-01 04:14'), '155'),\n",
       " (('8652928', '2021-06-01 03:58'), '631757'),\n",
       " (('8548123', '2021-06-01 04:01'), '631757'),\n",
       " (('24715264', '2021-06-01 03:56'), '631757'),\n",
       " (('69939810', '2021-06-01 04:06'), '206602'),\n",
       " (('11046172', '2021-06-01 04:03'), '206602'),\n",
       " (('8334658', '2021-06-01 04:09'), '206602'),\n",
       " (('29077699', '2021-06-01 04:11'), '206602'),\n",
       " (('40682798', '2021-06-01 03:54'), '206602'),\n",
       " (('22474283', '2021-06-01 04:06'), '206602'),\n",
       " (('8091143', '2021-06-01 03:57'), '206602'),\n",
       " (('28889922', '2021-06-01 03:59'), '206602'),\n",
       " (('21720169', '2021-06-01 04:00'), '206602'),\n",
       " (('48823778', '2021-06-01 04:00'), '206602'),\n",
       " (('52789835', '2021-06-01 04:04'), '206602'),\n",
       " (('10919200', '2021-06-01 04:03'), '631829'),\n",
       " (('13177831', '2021-06-01 03:51'), '631829'),\n",
       " (('101646284', '2021-06-01 02:28'), '202901'),\n",
       " (('30889141', '2021-06-01 03:07'), '202901')]"
      ]
     },
     "execution_count": 7,
     "metadata": {},
     "output_type": "execute_result"
    }
   ],
   "source": [
    "def format_date(date):\n",
    "    date = list(date)\n",
    "    date[-2:] = '{:02d}'.format(int(''.join(date[-2:]))).split()\n",
    "    return ''.join(date)\n",
    "\n",
    "def create_key_value(example):\n",
    "    key = (example['FINAL_CAR_KEY'], format_date(example['PASS_DAY_TIME'][:-3]))\n",
    "    value = example['DEVICE_CODE']\n",
    "    return (key, value)\n",
    "\n",
    "data_rdd = data_df.rdd.map(create_key_value)\n",
    "data_rdd.take(20)"
   ]
  },
  {
   "cell_type": "code",
   "execution_count": 8,
   "metadata": {},
   "outputs": [],
   "source": [
    "def flatten(lis):\n",
    "    if isinstance(lis, list):\n",
    "        for item in lis:\n",
    "            yield from flatten(item)\n",
    "    else:\n",
    "        yield lis"
   ]
  },
  {
   "cell_type": "code",
   "execution_count": 9,
   "metadata": {},
   "outputs": [
    {
     "name": "stderr",
     "output_type": "stream",
     "text": [
      "                                                                                \r"
     ]
    },
    {
     "data": {
      "text/plain": [
       "[(('10477885', '2021-06-01 03:54'), ['200501']),\n",
       " (('8548123', '2021-06-01 04:01'), ['631757']),\n",
       " (('8334658', '2021-06-01 04:09'), ['206602']),\n",
       " (('22474283', '2021-06-01 04:06'), ['206602']),\n",
       " (('19924252', '2021-06-01 02:30'), ['101301']),\n",
       " (('32421847', '2021-06-01 04:07'), ['230204']),\n",
       " (('58953919', '2021-06-01 03:19'), ['631362']),\n",
       " (('8550078', '2021-06-01 03:44'), ['631829']),\n",
       " (('35081338', '2021-06-01 03:45'), ['205201']),\n",
       " (('7949037', '2021-06-01 04:07'), ['145']),\n",
       " (('8358998', '2021-06-01 01:51'), ['631771']),\n",
       " (('7657114', '2021-06-01 03:52'), ['202901']),\n",
       " (('11361805', '2021-06-01 01:44'), ['22010031']),\n",
       " (('21790369', '2021-06-01 01:31'), ['100701251']),\n",
       " (('9823557', '2021-06-01 03:52'), ['22010052', '22010051']),\n",
       " (('61614929', '2021-06-01 03:58'), ['203902']),\n",
       " (('35432386', '2021-06-01 02:11'), ['22009977']),\n",
       " (('24498245', '2021-06-01 02:35'), ['22009977']),\n",
       " (('8704382', '2021-06-01 02:55'), ['22009977']),\n",
       " (('89895041', '2021-06-01 04:11'), ['22010062'])]"
      ]
     },
     "execution_count": 9,
     "metadata": {},
     "output_type": "execute_result"
    }
   ],
   "source": [
    "# here we create the (basket, [items]) rdd\n",
    "baskets = data_rdd.groupBy(lambda x: x[0]).mapValues(lambda x: list({item[1] for item in list(x)}))\n",
    "baskets.take(20)"
   ]
  },
  {
   "cell_type": "code",
   "execution_count": 10,
   "metadata": {},
   "outputs": [
    {
     "name": "stderr",
     "output_type": "stream",
     "text": [
      "                                                                                \r"
     ]
    },
    {
     "data": {
      "text/plain": [
       "[(('15757536', '2021-06-01'),\n",
       "  ['213402',\n",
       "   '22009972',\n",
       "   '900247',\n",
       "   '100700845',\n",
       "   '213202',\n",
       "   '900164',\n",
       "   '146',\n",
       "   '206602',\n",
       "   '22009971',\n",
       "   '103002',\n",
       "   '22009972']),\n",
       " (('76823072', '2021-06-01'),\n",
       "  ['143',\n",
       "   '900240',\n",
       "   '100701059',\n",
       "   '900234',\n",
       "   '900108',\n",
       "   '900171',\n",
       "   '205802',\n",
       "   '900212',\n",
       "   '900244',\n",
       "   '900246']),\n",
       " (('23125194', '2021-06-01'), ['210602']),\n",
       " (('7911538', '2021-06-01'), ['163']),\n",
       " (('34504614', '2021-06-01'),\n",
       "  ['212802', '137', '900240', '22010118', '143', '900256', '205802']),\n",
       " (('46522958', '2021-06-01'),\n",
       "  ['137', '205802', '900149', '900240', '900234', '22010118']),\n",
       " (('20751398', '2021-06-01'),\n",
       "  ['200301',\n",
       "   '900255',\n",
       "   '900236',\n",
       "   '100700812',\n",
       "   '115',\n",
       "   '100700910',\n",
       "   '100700841',\n",
       "   '900159',\n",
       "   '900135',\n",
       "   '231',\n",
       "   '900246',\n",
       "   '631367',\n",
       "   '900107',\n",
       "   '900237']),\n",
       " (('14327784', '2021-06-01'), ['211401']),\n",
       " (('27628070', '2021-06-01'), ['203101']),\n",
       " (('11245361', '2021-06-01'),\n",
       "  ['631346',\n",
       "   '900133',\n",
       "   '900259',\n",
       "   '900226',\n",
       "   '900269',\n",
       "   '200301',\n",
       "   '22010119',\n",
       "   '900227']),\n",
       " (('20732357', '2021-06-01'), ['230204']),\n",
       " (('7878787', '2021-06-01'), ['631795', '100700841', '900164', '100701131']),\n",
       " (('8863466', '2021-06-01'),\n",
       "  ['155', '100700841', '900185', '100700929', '900143', '900236']),\n",
       " (('12732154', '2021-06-01'), ['112', '631795', '900236']),\n",
       " (('52103026', '2021-06-01'), ['631763', '900237']),\n",
       " (('10489797', '2021-06-01'), ['208602']),\n",
       " (('17401607', '2021-06-01'), ['205802']),\n",
       " (('15907037', '2021-06-01'), ['143', '22010118']),\n",
       " (('79147416', '2021-06-01'),\n",
       "  ['631800', '212002', '900271', '22010138', '631829', '22010112', '900176']),\n",
       " (('9883422', '2021-06-01'),\n",
       "  ['22009923',\n",
       "   '203101',\n",
       "   '900102',\n",
       "   '900101',\n",
       "   '22010119',\n",
       "   '900259',\n",
       "   '900243',\n",
       "   '900236',\n",
       "   '900268',\n",
       "   '900185'])]"
      ]
     },
     "execution_count": 10,
     "metadata": {},
     "output_type": "execute_result"
    }
   ],
   "source": [
    "baskets = baskets.groupBy(lambda x: (x[0][0], x[0][1].split(' ')[0])).mapValues(lambda x: list(flatten([item[1] for item in list(x)])))\n",
    "baskets.take(20)"
   ]
  },
  {
   "cell_type": "code",
   "execution_count": 11,
   "metadata": {},
   "outputs": [],
   "source": [
    "# deleting outliers\n",
    "baskets = baskets.filter(lambda x: len(x[1]) <= 300)"
   ]
  },
  {
   "cell_type": "code",
   "execution_count": 12,
   "metadata": {},
   "outputs": [
    {
     "name": "stderr",
     "output_type": "stream",
     "text": [
      "                                                                                \r"
     ]
    },
    {
     "data": {
      "text/plain": [
       "[(('15757536', '2021-06-01'),\n",
       "  ['213402',\n",
       "   '22009972',\n",
       "   '900247',\n",
       "   '100700845',\n",
       "   '213202',\n",
       "   '900164',\n",
       "   '146',\n",
       "   '206602',\n",
       "   '22009971',\n",
       "   '103002',\n",
       "   '22009972']),\n",
       " (('76823072', '2021-06-01'),\n",
       "  ['143',\n",
       "   '900240',\n",
       "   '100701059',\n",
       "   '900234',\n",
       "   '900108',\n",
       "   '900171',\n",
       "   '205802',\n",
       "   '900212',\n",
       "   '900244',\n",
       "   '900246']),\n",
       " (('23125194', '2021-06-01'), ['210602']),\n",
       " (('7911538', '2021-06-01'), ['163']),\n",
       " (('34504614', '2021-06-01'),\n",
       "  ['212802', '137', '900240', '22010118', '143', '900256', '205802']),\n",
       " (('46522958', '2021-06-01'),\n",
       "  ['137', '205802', '900149', '900240', '900234', '22010118']),\n",
       " (('20751398', '2021-06-01'),\n",
       "  ['200301',\n",
       "   '900255',\n",
       "   '900236',\n",
       "   '100700812',\n",
       "   '115',\n",
       "   '100700910',\n",
       "   '100700841',\n",
       "   '900159',\n",
       "   '900135',\n",
       "   '231',\n",
       "   '900246',\n",
       "   '631367',\n",
       "   '900107',\n",
       "   '900237']),\n",
       " (('14327784', '2021-06-01'), ['211401']),\n",
       " (('27628070', '2021-06-01'), ['203101']),\n",
       " (('11245361', '2021-06-01'),\n",
       "  ['631346',\n",
       "   '900133',\n",
       "   '900259',\n",
       "   '900226',\n",
       "   '900269',\n",
       "   '200301',\n",
       "   '22010119',\n",
       "   '900227'])]"
      ]
     },
     "execution_count": 12,
     "metadata": {},
     "output_type": "execute_result"
    }
   ],
   "source": [
    "baskets.take(10)"
   ]
  },
  {
   "cell_type": "code",
   "execution_count": 13,
   "metadata": {},
   "outputs": [],
   "source": [
    "def binary_vector(row):\n",
    "    v = np.zeros(len(device_codes_dict.value))\n",
    "    indices = [device_codes_dict.value[code] for code in row[1]]\n",
    "    v[indices] = 1\n",
    "    return *row, v\n",
    "\n",
    "binary_vectors = baskets.map(binary_vector)"
   ]
  },
  {
   "cell_type": "markdown",
   "metadata": {},
   "source": [
    "### Part B"
   ]
  },
  {
   "cell_type": "code",
   "execution_count": 14,
   "metadata": {},
   "outputs": [],
   "source": [
    "def cosine_similarity(v1, v2):\n",
    "    dot_prod = np.sum(v1 * v2)\n",
    "    sim = np.arctan2(dot_prod, np.linalg.norm(v1) * np.linalg.norm(v2))\n",
    "    return sim"
   ]
  },
  {
   "cell_type": "code",
   "execution_count": 15,
   "metadata": {},
   "outputs": [],
   "source": [
    "path_len = 3\n",
    "\n",
    "query_path = np.random.choice(list(device_codes_dict.value.keys()), size=path_len)\n",
    "query_path = list(set(query_path))\n",
    "\n",
    "query_path_binary_vector = np.zeros(len(device_codes_dict.value))\n",
    "query_path_binary_vector[[device_codes_dict.value[code] for code in query_path]] = 1\n",
    "query_path_binary_vector = sc.broadcast(query_path_binary_vector)"
   ]
  },
  {
   "cell_type": "code",
   "execution_count": 16,
   "metadata": {},
   "outputs": [],
   "source": [
    "def query_similarity(row):\n",
    "    similarity = cosine_similarity(query_path_binary_vector.value, row[2])\n",
    "    return (row[0], row[1], similarity)\n",
    "\n",
    "\n",
    "similarities = binary_vectors.map(query_similarity)"
   ]
  },
  {
   "cell_type": "code",
   "execution_count": 17,
   "metadata": {},
   "outputs": [
    {
     "name": "stderr",
     "output_type": "stream",
     "text": [
      "[Stage 16:===========================================>              (6 + 2) / 8]\r"
     ]
    },
    {
     "name": "stdout",
     "output_type": "stream",
     "text": [
      "===== Resluts =====\n",
      "The query:\n",
      "['1001079', '22009923', '22010119']\n",
      "Most similar paths:\n",
      "1- (('95985673', '2021-06-01'), ['22009923', '22010119'], 0.6847192030022828)\n",
      "2- (('23214739', '2021-06-01'), ['22009923', '22010119'], 0.6847192030022828)\n",
      "3- (('8075171', '2021-06-01'), ['22009923', '22010119', '100700965'], 0.5880026035475676)\n",
      "4- (('17974480', '2021-06-01'), ['900236', '22010119', '22009923'], 0.5880026035475676)\n",
      "5- (('17122136', '2021-06-01'), ['100700824', '22010119', '22009923', '100700824'], 0.5880026035475676)\n"
     ]
    },
    {
     "name": "stderr",
     "output_type": "stream",
     "text": [
      "\r",
      "                                                                                \r"
     ]
    }
   ],
   "source": [
    "most_similar_paths = similarities.top(5, key=lambda x: x[2])\n",
    "\n",
    "print('===== Resluts =====')\n",
    "print('The query:')\n",
    "print(list(query_path))\n",
    "print('Most similar paths:')\n",
    "for i, path in enumerate(most_similar_paths):\n",
    "    print(f'{i+1}- {path}')"
   ]
  },
  {
   "cell_type": "markdown",
   "metadata": {},
   "source": [
    "### Part C"
   ]
  },
  {
   "cell_type": "code",
   "execution_count": 18,
   "metadata": {},
   "outputs": [],
   "source": [
    "r = 10\n",
    "b = 5\n",
    "n_hashes = r * b\n",
    "b = sc.broadcast(b)\n",
    "r = sc.broadcast(r)\n",
    "hyperplanes = [np.random.choice([-1, 1], len(device_codes_dict.value)) for _ in range(n_hashes)]\n",
    "hyperplanes = sc.broadcast(hyperplanes)"
   ]
  },
  {
   "cell_type": "code",
   "execution_count": 19,
   "metadata": {},
   "outputs": [],
   "source": [
    "def sign(x):\n",
    "    return 1.0 if x>=0 else -1 "
   ]
  },
  {
   "cell_type": "code",
   "execution_count": 20,
   "metadata": {},
   "outputs": [],
   "source": [
    "query_path_signature = [sign(sum(query_path_binary_vector.value * hyperplane)) for hyperplane in hyperplanes.value]\n",
    "query_path_signature = sc.broadcast(query_path_signature)"
   ]
  },
  {
   "cell_type": "code",
   "execution_count": 21,
   "metadata": {},
   "outputs": [],
   "source": [
    "# generate signature matrix\n",
    "def generate_signature(row):\n",
    "    signature = np.zeros(len(hyperplanes.value))\n",
    "    for i, hp in enumerate(hyperplanes.value):\n",
    "        signature[i] = sign(sum(hp * row[2]))\n",
    "    return *row, signature\n",
    "\n",
    "signatures = binary_vectors.map(generate_signature)"
   ]
  },
  {
   "cell_type": "code",
   "execution_count": 22,
   "metadata": {},
   "outputs": [],
   "source": [
    "def find_candidates(row):\n",
    "    is_candidate = False\n",
    "    for k in range(b.value):\n",
    "        indexes = slice(k*r.value, (k+1)*r.value)\n",
    "        if all(row[3][indexes] == query_path_signature.value[indexes]):\n",
    "            is_candidate = True\n",
    "            break\n",
    "    return *row, is_candidate\n",
    "    \n",
    "rows_with_candidates = signatures.map(find_candidates)"
   ]
  },
  {
   "cell_type": "code",
   "execution_count": 23,
   "metadata": {},
   "outputs": [],
   "source": [
    "candidates = rows_with_candidates.filter(lambda x: x[4])"
   ]
  },
  {
   "cell_type": "code",
   "execution_count": 35,
   "metadata": {},
   "outputs": [],
   "source": [
    "def find_similarity(row):\n",
    "    sim = cosine_similarity(row[2], query_path_binary_vector.value)\n",
    "    return *row, sim\n",
    "    "
   ]
  },
  {
   "cell_type": "code",
   "execution_count": 36,
   "metadata": {},
   "outputs": [
    {
     "name": "stderr",
     "output_type": "stream",
     "text": [
      "                                                                                \r"
     ]
    }
   ],
   "source": [
    "top_candidates = candidates.map(find_similarity).top(5, key=lambda x: x[5])"
   ]
  },
  {
   "cell_type": "code",
   "execution_count": 39,
   "metadata": {},
   "outputs": [],
   "source": [
    "top_candidates = [(candidate[0], candidate[1], candidate[-1]) for candidate in top_candidates]"
   ]
  },
  {
   "cell_type": "code",
   "execution_count": 41,
   "metadata": {},
   "outputs": [
    {
     "name": "stdout",
     "output_type": "stream",
     "text": [
      "===== Resluts =====\n",
      "The query:\n",
      "['1001079', '22009923', '22010119']\n",
      "Most similar paths:\n",
      "1- (('95985673', '2021-06-01'), ['22009923', '22010119'], 0.6847192030022828)\n",
      "2- (('23214739', '2021-06-01'), ['22009923', '22010119'], 0.6847192030022828)\n",
      "3- (('8075171', '2021-06-01'), ['22009923', '22010119', '100700965'], 0.5880026035475676)\n",
      "4- (('17974480', '2021-06-01'), ['900236', '22010119', '22009923'], 0.5880026035475676)\n",
      "5- (('17122136', '2021-06-01'), ['100700824', '22010119', '22009923', '100700824'], 0.5880026035475676)\n"
     ]
    }
   ],
   "source": [
    "print('===== Resluts =====')\n",
    "print('The query:')\n",
    "print(list(query_path))\n",
    "print('Most similar paths:')\n",
    "for i, path in enumerate(top_candidates):\n",
    "    print(f'{i+1}- {path}')"
   ]
  }
 ],
 "metadata": {
  "kernelspec": {
   "display_name": "Python 3 (ipykernel)",
   "language": "python",
   "name": "python3"
  },
  "language_info": {
   "codemirror_mode": {
    "name": "ipython",
    "version": 3
   },
   "file_extension": ".py",
   "mimetype": "text/x-python",
   "name": "python",
   "nbconvert_exporter": "python",
   "pygments_lexer": "ipython3",
   "version": "3.11.0"
  }
 },
 "nbformat": 4,
 "nbformat_minor": 5
}
