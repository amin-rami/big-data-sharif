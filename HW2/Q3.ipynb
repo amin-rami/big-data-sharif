{
 "cells": [
  {
   "cell_type": "code",
   "execution_count": 1,
   "metadata": {},
   "outputs": [],
   "source": [
    "import numpy\n",
    "import pandas as pd\n",
    "import matplotlib.pyplot as plt\n",
    "from pyspark import SparkContext, SparkConf\n",
    "from pyspark.sql import SparkSession"
   ]
  },
  {
   "cell_type": "code",
   "execution_count": 2,
   "metadata": {},
   "outputs": [
    {
     "name": "stderr",
     "output_type": "stream",
     "text": [
      "Setting default log level to \"WARN\".\n",
      "To adjust logging level use sc.setLogLevel(newLevel). For SparkR, use setLogLevel(newLevel).\n"
     ]
    },
    {
     "name": "stdout",
     "output_type": "stream",
     "text": [
      "22/12/16 19:30:06 WARN NativeCodeLoader: Unable to load native-hadoop library for your platform... using builtin-java classes where applicable\n"
     ]
    }
   ],
   "source": [
    "spark = SparkSession \\\n",
    "    .builder \\\n",
    "    .appName(\"Spark_Processor\") \\\n",
    "    .master(\"local[*]\") \\\n",
    "    .getOrCreate()\n",
    "\n",
    "sc=spark.sparkContext"
   ]
  },
  {
   "cell_type": "code",
   "execution_count": 3,
   "metadata": {},
   "outputs": [],
   "source": [
    "data = sc.textFile('records.txt')"
   ]
  },
  {
   "cell_type": "code",
   "execution_count": 4,
   "metadata": {},
   "outputs": [],
   "source": [
    "splited_data = data.map(lambda x: frozenset(x.split()))\n",
    "items = data.flatMap(lambda x: frozenset(x.split()))\n",
    "kv_data = items.map(lambda x: (x, 1))\n",
    "item_frequency = kv_data.reduceByKey(lambda x, y: x+y)"
   ]
  },
  {
   "cell_type": "code",
   "execution_count": 5,
   "metadata": {},
   "outputs": [
    {
     "name": "stderr",
     "output_type": "stream",
     "text": [
      "                                                                                \r"
     ]
    }
   ],
   "source": [
    "# freqeunt items\n",
    "SUPPORT_S = 100\n",
    "frequent_items = item_frequency.filter(lambda x: x[1]>=SUPPORT_S)\n",
    "frequent_items = frequent_items.sortBy(lambda x: x[1], ascending=False)\n",
    "frequent_items_list = sc.broadcast(frozenset(frequent_items.map(lambda x: x[0]).collect()))"
   ]
  },
  {
   "cell_type": "code",
   "execution_count": 6,
   "metadata": {},
   "outputs": [
    {
     "name": "stdout",
     "output_type": "stream",
     "text": [
      "===== 10 Most frequent items are: =====\n",
      "1- ('DAI62779', 6667)\n",
      "2- ('FRO40251', 3881)\n",
      "3- ('ELE17451', 3875)\n",
      "4- ('GRO73461', 3602)\n",
      "5- ('SNA80324', 3044)\n",
      "6- ('ELE32164', 2851)\n",
      "7- ('DAI75645', 2736)\n",
      "8- ('SNA45677', 2455)\n",
      "9- ('FRO31317', 2330)\n",
      "10- ('DAI85309', 2293)\n",
      "===== Number of frequent items are 647 =====\n"
     ]
    }
   ],
   "source": [
    "# Results\n",
    "print('===== 10 Most frequent items are: =====')\n",
    "for i, item in enumerate(frequent_items.take(10)):\n",
    "    print(f\"{i+1}- {item}\")\n",
    "print(f'===== Number of frequent items are {frequent_items.count()} =====')"
   ]
  },
  {
   "cell_type": "code",
   "execution_count": 30,
   "metadata": {},
   "outputs": [],
   "source": [
    "# frequent two tuples\n",
    "def remove_infrequents(basket):\n",
    "    return frozenset(item for item in basket if item in frequent_items_list.value)\n",
    "\n",
    "def create_two_tuple(basket):\n",
    "    items_list = list(basket)\n",
    "    n = len(items_list)\n",
    "    two_tuples = []\n",
    "    \n",
    "    for i in range(n):\n",
    "        for j in range(i+1, n):\n",
    "            two_tuple = tuple(sorted([items_list[i], items_list[j]]))\n",
    "            two_tuples.append((two_tuple, 1))\n",
    "    return two_tuples\n",
    "\n",
    "splited_data_without_infrequents = splited_data.map(remove_infrequents)\n",
    "frequent_two_tuples = splited_data_without_infrequents.flatMap(create_two_tuple).reduceByKey(lambda x, y: x+y).filter(lambda x: x[1]>=SUPPORT_S)\n"
   ]
  },
  {
   "cell_type": "code",
   "execution_count": 37,
   "metadata": {},
   "outputs": [
    {
     "name": "stdout",
     "output_type": "stream",
     "text": [
      "===== 10 Most frequent two tuples are: =====\n",
      "1- (('DAI62779', 'ELE17451'), 1592)\n",
      "2- (('FRO40251', 'SNA80324'), 1412)\n",
      "3- (('DAI75645', 'FRO40251'), 1254)\n",
      "4- (('FRO40251', 'GRO85051'), 1213)\n",
      "5- (('DAI62779', 'GRO73461'), 1139)\n",
      "6- (('DAI75645', 'SNA80324'), 1130)\n",
      "7- (('DAI62779', 'FRO40251'), 1070)\n",
      "8- (('DAI62779', 'SNA80324'), 923)\n",
      "9- (('DAI62779', 'DAI85309'), 918)\n",
      "10- (('ELE32164', 'GRO59710'), 911)\n",
      "===== Number of frequent two tuples are 1334 =====\n"
     ]
    }
   ],
   "source": [
    "# Results\n",
    "print('===== 10 Most frequent two tuples are: =====')\n",
    "for i, item in enumerate(frequent_two_tuples.sortBy(lambda x: x[1], ascending=False).take(10)):\n",
    "    print(f\"{i+1}- {item}\")\n",
    "print(f'===== Number of frequent two tuples are {frequent_two_tuples.count()} =====')"
   ]
  },
  {
   "cell_type": "code",
   "execution_count": 43,
   "metadata": {},
   "outputs": [],
   "source": [
    "# frequent three tuples\n",
    "def create_three_tuples(basket):\n",
    "    items_list = list(basket)\n",
    "    n = len(items_list)\n",
    "    three_tuples = []\n",
    "    \n",
    "    for i in range(n):\n",
    "        for j in range(i+1, n):\n",
    "            for k in range(j+1, n):\n",
    "                three_tuple = tuple(sorted([items_list[i], items_list[j], items_list[k]]))\n",
    "                three_tuples.append((three_tuple, 1))\n",
    "    return three_tuples\n",
    "\n",
    "frequent_three_tuples = splited_data_without_infrequents.flatMap(create_three_tuples).reduceByKey(lambda x, y: x+y).filter(lambda x: x[1]>=SUPPORT_S)"
   ]
  },
  {
   "cell_type": "code",
   "execution_count": 45,
   "metadata": {},
   "outputs": [
    {
     "name": "stdout",
     "output_type": "stream",
     "text": [
      "===== 10 Most frequent three tuples are: =====\n"
     ]
    },
    {
     "name": "stderr",
     "output_type": "stream",
     "text": [
      "                                                                                \r"
     ]
    },
    {
     "name": "stdout",
     "output_type": "stream",
     "text": [
      "1- (('DAI75645', 'FRO40251', 'SNA80324'), 550)\n",
      "2- (('DAI62779', 'FRO40251', 'SNA80324'), 476)\n",
      "3- (('FRO40251', 'GRO85051', 'SNA80324'), 471)\n",
      "4- (('DAI62779', 'ELE92920', 'SNA18336'), 432)\n",
      "5- (('DAI62779', 'DAI75645', 'SNA80324'), 421)\n",
      "6- (('DAI62779', 'ELE17451', 'SNA80324'), 417)\n",
      "7- (('DAI62779', 'DAI75645', 'FRO40251'), 412)\n",
      "8- (('DAI62779', 'ELE17451', 'FRO40251'), 406)\n",
      "9- (('DAI75645', 'FRO40251', 'GRO85051'), 395)\n",
      "10- (('DAI62779', 'FRO40251', 'GRO85051'), 381)\n"
     ]
    },
    {
     "name": "stderr",
     "output_type": "stream",
     "text": [
      "\r",
      "[Stage 77:>                                                         (0 + 2) / 2]\r"
     ]
    },
    {
     "name": "stdout",
     "output_type": "stream",
     "text": [
      "===== Number of frequent three tuples are 233 =====\n"
     ]
    },
    {
     "name": "stderr",
     "output_type": "stream",
     "text": [
      "\r",
      "[Stage 77:=============================>                            (1 + 1) / 2]\r",
      "\r",
      "                                                                                \r"
     ]
    }
   ],
   "source": [
    "# Results\n",
    "print('===== 10 Most frequent three tuples are: =====')\n",
    "for i, item in enumerate(frequent_three_tuples.sortBy(lambda x: x[1], ascending=False).take(10)):\n",
    "    print(f\"{i+1}- {item}\")\n",
    "print(f'===== Number of frequent three tuples are {frequent_three_tuples.count()} =====')"
   ]
  },
  {
   "cell_type": "code",
   "execution_count": null,
   "metadata": {},
   "outputs": [],
   "source": []
  }
 ],
 "metadata": {
  "kernelspec": {
   "display_name": "Python 3 (ipykernel)",
   "language": "python",
   "name": "python3"
  },
  "language_info": {
   "codemirror_mode": {
    "name": "ipython",
    "version": 3
   },
   "file_extension": ".py",
   "mimetype": "text/x-python",
   "name": "python",
   "nbconvert_exporter": "python",
   "pygments_lexer": "ipython3",
   "version": "3.11.0"
  }
 },
 "nbformat": 4,
 "nbformat_minor": 5
}
