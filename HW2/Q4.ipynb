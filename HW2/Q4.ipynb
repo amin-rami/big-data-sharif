{
 "cells": [
  {
   "cell_type": "markdown",
   "metadata": {},
   "source": [
    "## Loading Data"
   ]
  },
  {
   "cell_type": "code",
   "execution_count": 1,
   "metadata": {},
   "outputs": [],
   "source": [
    "from pyspark import SparkContext, SparkConf\n",
    "from pyspark.sql import SparkSession\n",
    "from operator import add"
   ]
  },
  {
   "cell_type": "code",
   "execution_count": 2,
   "metadata": {},
   "outputs": [
    {
     "name": "stderr",
     "output_type": "stream",
     "text": [
      "Setting default log level to \"WARN\".\n",
      "To adjust logging level use sc.setLogLevel(newLevel). For SparkR, use setLogLevel(newLevel).\n"
     ]
    },
    {
     "name": "stdout",
     "output_type": "stream",
     "text": [
      "22/12/20 20:39:53 WARN NativeCodeLoader: Unable to load native-hadoop library for your platform... using builtin-java classes where applicable\n"
     ]
    }
   ],
   "source": [
    "spark = SparkSession \\\n",
    "    .builder \\\n",
    "    .appName(\"Spark_Processor\") \\\n",
    "    .master(\"local[*]\") \\\n",
    "    .getOrCreate()\n",
    "\n",
    "sc=spark.sparkContext"
   ]
  },
  {
   "cell_type": "code",
   "execution_count": 3,
   "metadata": {},
   "outputs": [],
   "source": [
    "data_df = spark.read.option('header', 'true').csv('Sample_Data/Sample_Traffic.csv')"
   ]
  },
  {
   "cell_type": "code",
   "execution_count": 4,
   "metadata": {
    "scrolled": true
   },
   "outputs": [
    {
     "name": "stdout",
     "output_type": "stream",
     "text": [
      "+-----------+---------+---------------+-------------+----------------+----------+-------------------+\n",
      "|DEVICE_CODE|SYSTEM_ID|ORIGINE_CAR_KEY|FINAL_CAR_KEY|CHECK_STATUS_KEY|COMPANY_ID|      PASS_DAY_TIME|\n",
      "+-----------+---------+---------------+-------------+----------------+----------+-------------------+\n",
      "|     200501|       81|       10477885|     10477885|               5|       161|2021-06-01 03:54:39|\n",
      "|        155|       81|       87625017|     87625017|               5|       161|2021-06-01 04:14:21|\n",
      "|     631757|       81|        8652928|      8652928|               5|       161|2021-06-01 03:58:57|\n",
      "|     631757|       81|        8548123|      8548123|               5|       161|2021-06-01 04:01:38|\n",
      "|     631757|       81|       24715264|     24715264|               5|       161|2021-06-01 03:56:57|\n",
      "|     206602|       81|       69939810|     69939810|               5|       161|2021-06-01 04:06:38|\n",
      "|     206602|       81|       11046172|     11046172|               5|       161|2021-06-01 04:03:59|\n",
      "|     206602|       81|        8334658|      8334658|               5|       161|2021-06-01 04:09:16|\n",
      "|     206602|       81|       29077699|     29077699|               5|       161|2021-06-01 04:11:01|\n",
      "|     206602|       81|       40682798|     40682798|               5|       161|2021-06-01 03:54:45|\n",
      "|     206602|       81|       22474283|     22474283|               5|       161|2021-06-01 04:06:04|\n",
      "|     206602|       81|        8091143|      8091143|               5|       161|2021-06-01 03:57:17|\n",
      "|     206602|       81|       28889922|     28889922|               5|       161|2021-06-01 03:59:24|\n",
      "|     206602|       81|       21720169|     21720169|               5|       161|2021-06-01 04:00:44|\n",
      "|     206602|       81|       48823778|     48823778|               5|       161|2021-06-01 04:00:39|\n",
      "|     206602|       81|       52789835|     52789835|               5|       161|2021-06-01 04:04:15|\n",
      "|     631829|       81|       10919200|     10919200|               5|       161|2021-06-01 04:03:08|\n",
      "|     631829|       81|       13177831|     13177831|               5|       161|2021-06-01 03:51:41|\n",
      "|     202901|       81|      101646284|    101646284|               5|       161|2021-06-01 02:28:02|\n",
      "|     202901|       81|       30889141|     30889141|               5|       161|2021-06-01 03:07:15|\n",
      "+-----------+---------+---------------+-------------+----------------+----------+-------------------+\n",
      "only showing top 20 rows\n",
      "\n"
     ]
    }
   ],
   "source": [
    "# a preview of the data\n",
    "data_df.show()"
   ]
  },
  {
   "cell_type": "code",
   "execution_count": 5,
   "metadata": {},
   "outputs": [],
   "source": [
    "# deleting outliers\n",
    "data = data_df.rdd\n",
    "data = data.filter(lambda x: x['ORIGINE_CAR_KEY'] == x['FINAL_CAR_KEY'])"
   ]
  },
  {
   "cell_type": "code",
   "execution_count": 6,
   "metadata": {},
   "outputs": [],
   "source": [
    "# a function to generate the required rdd\n",
    "def create_key_value(row):\n",
    "    key = (row['FINAL_CAR_KEY'], row['PASS_DAY_TIME'])\n",
    "    value = row['DEVICE_CODE']\n",
    "    return (key, value)"
   ]
  },
  {
   "cell_type": "code",
   "execution_count": 7,
   "metadata": {},
   "outputs": [],
   "source": [
    "# creating the required rdd\n",
    "data = data.map(create_key_value)"
   ]
  },
  {
   "cell_type": "code",
   "execution_count": 8,
   "metadata": {},
   "outputs": [],
   "source": [
    "# cleaning the data: for some cameras, a car had been submited mutiple time in a single moment\n",
    "# which is not rational. so, we will remove this redundancy\n",
    "def day_time(basket):\n",
    "    plate = basket[0][0]\n",
    "    day_time = basket[0][1]\n",
    "    camera_code = basket[1]\n",
    "    day, time = day_time.split()\n",
    "    time = time[:-3]\n",
    "    return ((plate, day + \" \" + time), camera_code)\n",
    "\n",
    "data_modified = data.map(day_time)\n",
    "clean_data = data_modified.groupByKey().mapValues(lambda x: tuple(set(tuple(x))))"
   ]
  },
  {
   "cell_type": "code",
   "execution_count": 9,
   "metadata": {},
   "outputs": [],
   "source": [
    "# removing time, leaving only day\n",
    "def day(basket):\n",
    "    plate = basket[0][0]\n",
    "    day_time = basket[0][1]\n",
    "    camera_codes = basket[1]\n",
    "    day = day_time.split()[0]\n",
    "    return ((plate, day), camera_codes)\n",
    "\n",
    "def flatten(x):\n",
    "    if isinstance(x, str):\n",
    "        yield x\n",
    "    else:\n",
    "        for item in x:\n",
    "            yield from flatten(item)\n",
    "\n",
    "clean_data = clean_data.map(day)\n",
    "clean_data = clean_data.groupByKey().mapValues(tuple).mapValues(lambda x: tuple(flatten(x)))\n",
    "camera_baskets = clean_data.values()"
   ]
  },
  {
   "cell_type": "markdown",
   "metadata": {},
   "source": [
    "## A-Priori Algorithm"
   ]
  },
  {
   "cell_type": "code",
   "execution_count": 10,
   "metadata": {},
   "outputs": [],
   "source": [
    "# counting the visits to each camera\n",
    "def extract_cameras(basket):\n",
    "    items = tuple((camera, 1) for camera in basket)\n",
    "    return items\n",
    "\n",
    "camera_count = camera_baskets.flatMap(extract_cameras).reduceByKey(add)"
   ]
  },
  {
   "cell_type": "code",
   "execution_count": 11,
   "metadata": {},
   "outputs": [
    {
     "name": "stderr",
     "output_type": "stream",
     "text": [
      "                                                                                \r"
     ]
    }
   ],
   "source": [
    "# calculating support threshold. we set it equal to mean + 1 * std\n",
    "SUPPORT_S = camera_count.values().mean() + camera_count.values().stdev()"
   ]
  },
  {
   "cell_type": "code",
   "execution_count": 12,
   "metadata": {},
   "outputs": [],
   "source": [
    "# finding the frequently visited cameras\n",
    "frequent_cameras = camera_count.filter(lambda x: x[1] >= SUPPORT_S)"
   ]
  },
  {
   "cell_type": "code",
   "execution_count": 13,
   "metadata": {},
   "outputs": [
    {
     "name": "stderr",
     "output_type": "stream",
     "text": [
      "\r",
      "[Stage 13:==================================================>       (7 + 1) / 8]\r",
      "\r",
      "                                                                                \r"
     ]
    }
   ],
   "source": [
    "# broadcasting the frequent cameras\n",
    "frequent_cameras_list = sc.broadcast(frozenset(frequent_cameras.map(lambda x: x[0]).collect()))"
   ]
  },
  {
   "cell_type": "code",
   "execution_count": 14,
   "metadata": {},
   "outputs": [],
   "source": [
    "# remove cameras which are not frequents\n",
    "def remove_infrequent_cameras(basket):\n",
    "    return tuple(item for item in basket if item in frequent_cameras_list.value)\n",
    "\n",
    "baskets_with_frequent_cameras = camera_baskets.map(remove_infrequent_cameras)    \n",
    "baskets_with_frequent_cameras = baskets_with_frequent_cameras.filter(lambda x: len(x)<300)"
   ]
  },
  {
   "cell_type": "code",
   "execution_count": 15,
   "metadata": {},
   "outputs": [],
   "source": [
    "# creating two tuples\n",
    "def create_two_tuple(basket):\n",
    "    n = len(basket)\n",
    "    two_tuples = []\n",
    "    \n",
    "    for i in range(n):\n",
    "        for j in range(i+1, n):\n",
    "            two_tuple = tuple(sorted([basket[i], basket[j]]))\n",
    "            if len(set(two_tuple)) == 2:\n",
    "                two_tuples.append((two_tuple, 1))\n",
    "    return two_tuples\n",
    "\n",
    "frequent_two_tuples = baskets_with_frequent_cameras.flatMap(create_two_tuple).reduceByKey(add).filter(lambda x: x[1] >= SUPPORT_S)"
   ]
  },
  {
   "cell_type": "code",
   "execution_count": 16,
   "metadata": {
    "scrolled": true
   },
   "outputs": [
    {
     "name": "stderr",
     "output_type": "stream",
     "text": [
      "                                                                                \r"
     ]
    },
    {
     "name": "stdout",
     "output_type": "stream",
     "text": [
      "number of two tuples is: 24\n",
      "===================================\n",
      "===== top frequent two tuples =====\n",
      "(('900212', '900244'), 55733)\n",
      "(('900142', '900212'), 34622)\n",
      "(('100700841', '900101'), 25697)\n",
      "(('100700853', '900142'), 24949)\n",
      "(('100700864', '900185'), 23455)\n",
      "(('100700853', '900212'), 23150)\n",
      "(('100700868', '900222'), 22815)\n",
      "(('100700841', '900236'), 22592)\n",
      "(('100700824', '900107'), 21723)\n",
      "(('900142', '900244'), 21102)\n"
     ]
    }
   ],
   "source": [
    "# results\n",
    "top_two_tuples = frequent_two_tuples.sortBy(lambda x: x[1], ascending=False).take(10)\n",
    "print(f'number of two tuples is: {frequent_two_tuples.count()}')\n",
    "print('===================================')\n",
    "print('===== top frequent two tuples =====')\n",
    "for two_tuple in top_two_tuples:\n",
    "    print(two_tuple)\n"
   ]
  },
  {
   "cell_type": "code",
   "execution_count": 17,
   "metadata": {},
   "outputs": [],
   "source": [
    "# creating three tuples\n",
    "def create_three_tuples(basket):\n",
    "    n = len(basket)\n",
    "    three_tuples = []\n",
    "    \n",
    "    for i in range(n):\n",
    "        for j in range(i+1, n):\n",
    "            for k in range(j+1, n):\n",
    "                three_tuple = tuple(sorted([basket[i], basket[j], basket[k]]))\n",
    "                if len(set(three_tuple)) == 3:\n",
    "                    three_tuples.append((three_tuple, 1))\n",
    "    return three_tuples\n",
    "\n",
    "frequent_three_tuples = baskets_with_frequent_cameras.flatMap(create_three_tuples).reduceByKey(add).filter(lambda x: x[1] >= SUPPORT_S)"
   ]
  },
  {
   "cell_type": "code",
   "execution_count": 27,
   "metadata": {},
   "outputs": [
    {
     "name": "stdout",
     "output_type": "stream",
     "text": [
      "number of three tuples is: 24\n",
      "=================================\n",
      "===== top frequent three tuples =====\n",
      "(('175', '203902', '900191'), 48710)\n",
      "(('100700853', '900142', '900212'), 40184)\n",
      "(('100700868', '900155', '900222'), 36422)\n",
      "(('900142', '900212', '900244'), 33052)\n",
      "(('100700853', '900212', '900244'), 27559)\n",
      "(('22010119', '900108', '900268'), 25845)\n",
      "(('22009977', '900225', '900268'), 25806)\n",
      "(('100700839', '900212', '900244'), 22235)\n",
      "(('100700853', '900142', '900244'), 20402)\n",
      "(('22010118', '900215', '900256'), 18280)\n"
     ]
    }
   ],
   "source": [
    "# results\n",
    "top_three_tuples = frequent_three_tuples.sortBy(lambda x: x[1], ascending=False).take(10)\n",
    "print(f'number of three tuples is: {frequent_three_tuples.count()}')\n",
    "print('=================================')\n",
    "print('===== top frequent three tuples =====')\n",
    "for three_tuple in top_three_tuples:\n",
    "    print(three_tuple)"
   ]
  },
  {
   "cell_type": "markdown",
   "metadata": {},
   "source": [
    "## SON Algorithm"
   ]
  },
  {
   "cell_type": "code",
   "execution_count": 19,
   "metadata": {},
   "outputs": [],
   "source": [
    "# setting the hyperparameters and spliting the data into chunks\n",
    "NUM_OF_CHUNKS = 3\n",
    "RELAXING_FACTOR = 1.2\n",
    "SUPPORT_S = 14071.60192803407\n",
    "SON_SUPPORT_S = SUPPORT_S/(NUM_OF_CHUNKS * RELAXING_FACTOR)\n",
    "\n",
    "son_final_frequent_two_tuples = sc.parallelize([])\n",
    "son_final_frequent_three_tuples = sc.parallelize([])\n",
    "\n",
    "def hash_data(basket):\n",
    "    x = sum(int(camera_code) for camera_code in basket) % NUM_OF_CHUNKS\n",
    "    return (x, basket)\n",
    "\n",
    "hashed_baskets = camera_baskets.map(hash_data)\n",
    "\n",
    "rdd1 = hashed_baskets.filter(lambda x: x[0] == 0).values()\n",
    "rdd2 = hashed_baskets.filter(lambda x: x[0] == 1).values()\n",
    "rdd3 = hashed_baskets.filter(lambda x: x[0] == 2).values()\n",
    "\n",
    "data_chunks = [rdd1, rdd2, rdd3]"
   ]
  },
  {
   "cell_type": "code",
   "execution_count": 20,
   "metadata": {},
   "outputs": [
    {
     "name": "stderr",
     "output_type": "stream",
     "text": [
      "                                                                                \r"
     ]
    }
   ],
   "source": [
    "# creating candidates\n",
    "\n",
    "def son_create_two_tuples(basket):\n",
    "    n = len(basket)\n",
    "    two_tuples = []\n",
    "    \n",
    "    for i in range(n):\n",
    "        for j in range(i+1, n):\n",
    "            if basket[i] in son_frequent_cameras_list.value and basket[j] in son_frequent_cameras_list.value:\n",
    "                two_tuple = tuple(sorted([basket[i], basket[j]]))\n",
    "                if len(set(two_tuple)) == 2:\n",
    "                    two_tuples.append((two_tuple, 1))\n",
    "    return two_tuples\n",
    "\n",
    "def son_create_three_tuples(basket):\n",
    "    n = len(basket)\n",
    "    three_tuples = []\n",
    "    \n",
    "    for i in range(n):\n",
    "        for j in range(i+1, n):\n",
    "            for k in range(j+1, n):\n",
    "                if basket[i] in son_frequent_cameras_list.value and basket[j] in son_frequent_cameras_list.value and basket[k] in son_frequent_cameras_list.value:\n",
    "                    three_tuple = tuple(sorted([basket[i], basket[j], basket[k]]))\n",
    "                    if len(set(three_tuple)) == 3:\n",
    "                        three_tuples.append((three_tuple, 1))\n",
    "    return three_tuples\n",
    "                    \n",
    "def son_extract_cameras(basket):\n",
    "    return [(camera_code, 1) for camera_code in basket]\n",
    "\n",
    "def son_remove_infrequent_cameras(basket):\n",
    "    return tuple(camera_code for camera_code in basket if camera_code in son_frequent_cameras_list.value)\n",
    "\n",
    "for chunk in data_chunks:\n",
    "    camera_count = chunk.flatMap(son_extract_cameras).reduceByKey(add)\n",
    "    \n",
    "    son_frequent_cameras = camera_count.filter(lambda x: x[1] >= SON_SUPPORT_S)\n",
    "    son_frequent_cameras_list = sc.broadcast(frozenset(son_frequent_cameras.keys().collect()))\n",
    "    \n",
    "    son_baskets_with_frequent_cameras = chunk.map(son_remove_infrequent_cameras)\n",
    "    son_baskets_with_frequent_cameras = son_baskets_with_frequent_cameras.filter(lambda x: len(x) < 300)\n",
    "    \n",
    "    son_frequent_two_tuples = son_baskets_with_frequent_cameras.flatMap(son_create_two_tuples).reduceByKey(add).filter(lambda x: x[1] >= SON_SUPPORT_S)\n",
    "    son_frequent_three_tuples = son_baskets_with_frequent_cameras.flatMap(son_create_three_tuples).reduceByKey(add).filter(lambda x: x[1] >= SON_SUPPORT_S)\n",
    "    \n",
    "    son_final_frequent_two_tuples = son_final_frequent_two_tuples.union(son_frequent_two_tuples)\n",
    "    son_final_frequent_three_tuples = son_final_frequent_three_tuples.union(son_frequent_three_tuples)\n"
   ]
  },
  {
   "cell_type": "code",
   "execution_count": 21,
   "metadata": {},
   "outputs": [
    {
     "name": "stderr",
     "output_type": "stream",
     "text": [
      "                                                                                \r"
     ]
    }
   ],
   "source": [
    "# broadcasting the candidates\n",
    "son_final_frequent_two_tuples_list = sc.broadcast(frozenset(son_final_frequent_two_tuples.keys().collect()))\n",
    "son_final_frequent_three_tuples_list = sc.broadcast(frozenset(son_final_frequent_three_tuples.keys().collect()))"
   ]
  },
  {
   "cell_type": "code",
   "execution_count": 22,
   "metadata": {},
   "outputs": [],
   "source": [
    "# verifying the candidates\n",
    "def verify_two_tuple(basket):\n",
    "    n = len(basket)\n",
    "    two_tuples = []\n",
    "    \n",
    "    for i in range(n):\n",
    "        for j in range(i+1, n):\n",
    "            two_tuple = tuple(sorted([basket[i], basket[j]]))\n",
    "            if two_tuple in son_final_frequent_two_tuples_list.value and len(set(two_tuple)) == 2:\n",
    "                two_tuples.append((two_tuple, 1))\n",
    "    return two_tuples\n",
    "\n",
    "def verify_three_tuple(basket):\n",
    "    n = len(basket)\n",
    "    three_tuples = []\n",
    "    \n",
    "    for i in range(n):\n",
    "        for j in range(i+1, n):\n",
    "            for k in range(j+1, n):\n",
    "                three_tuple = tuple(sorted([basket[i], basket[j], basket[k]]))\n",
    "                if three_tuple in son_final_frequent_three_tuples_list.value and len(set(three_tuple)) == 3:\n",
    "                    three_tuples.append((three_tuple, 1))\n",
    "    return three_tuples\n",
    "\n",
    "son_camera_baskets = baskets_with_frequent_cameras\n",
    "\n",
    "son_final_frequent_two_tuples = son_camera_baskets.flatMap(verify_two_tuple).reduceByKey(add).filter(lambda x: x[1] >= SUPPORT_S)\n",
    "son_final_frequent_three_tuples = son_camera_baskets.flatMap(verify_three_tuple).reduceByKey(add).filter(lambda x: x[1]>= SUPPORT_S)\n"
   ]
  },
  {
   "cell_type": "code",
   "execution_count": 23,
   "metadata": {},
   "outputs": [
    {
     "name": "stderr",
     "output_type": "stream",
     "text": [
      "                                                                                \r"
     ]
    },
    {
     "name": "stdout",
     "output_type": "stream",
     "text": [
      "number of two tuples is: 24\n",
      "===================================\n",
      "===== top frequent two tuples =====\n",
      "(('900212', '900244'), 55733)\n",
      "(('900142', '900212'), 34622)\n",
      "(('100700841', '900101'), 25697)\n",
      "(('100700853', '900142'), 24949)\n",
      "(('100700864', '900185'), 23455)\n",
      "(('100700853', '900212'), 23150)\n",
      "(('100700868', '900222'), 22815)\n",
      "(('100700841', '900236'), 22592)\n",
      "(('100700824', '900107'), 21723)\n",
      "(('900142', '900244'), 21102)\n"
     ]
    }
   ],
   "source": [
    "# results\n",
    "top_two_tuples = son_final_frequent_two_tuples.sortBy(lambda x: x[1], ascending=False).take(10)\n",
    "print(f'number of two tuples is: {son_final_frequent_two_tuples.count()}')\n",
    "print('===================================')\n",
    "print('===== top frequent two tuples =====')\n",
    "for two_tuple in top_two_tuples:\n",
    "    print(two_tuple)\n"
   ]
  },
  {
   "cell_type": "code",
   "execution_count": 28,
   "metadata": {},
   "outputs": [
    {
     "name": "stdout",
     "output_type": "stream",
     "text": [
      "number of three tuples is: 24\n",
      "=================================\n",
      "===== top frequent three tuples =====\n",
      "(('175', '203902', '900191'), 48710)\n",
      "(('100700853', '900142', '900212'), 40184)\n",
      "(('100700868', '900155', '900222'), 36422)\n",
      "(('900142', '900212', '900244'), 33052)\n",
      "(('100700853', '900212', '900244'), 27559)\n",
      "(('22010119', '900108', '900268'), 25845)\n",
      "(('22009977', '900225', '900268'), 25806)\n",
      "(('100700839', '900212', '900244'), 22235)\n",
      "(('100700853', '900142', '900244'), 20402)\n",
      "(('22010118', '900215', '900256'), 18280)\n"
     ]
    }
   ],
   "source": [
    "# results\n",
    "top_three_tuples = son_final_frequent_three_tuples.sortBy(lambda x: x[1], ascending=False).take(10)\n",
    "print(f'number of three tuples is: {son_final_frequent_three_tuples.count()}')\n",
    "print('=================================')\n",
    "print('===== top frequent three tuples =====')\n",
    "for three_tuple in top_three_tuples:\n",
    "    print(three_tuple)"
   ]
  }
 ],
 "metadata": {
  "kernelspec": {
   "display_name": "Python 3 (ipykernel)",
   "language": "python",
   "name": "python3"
  },
  "language_info": {
   "codemirror_mode": {
    "name": "ipython",
    "version": 3
   },
   "file_extension": ".py",
   "mimetype": "text/x-python",
   "name": "python",
   "nbconvert_exporter": "python",
   "pygments_lexer": "ipython3",
   "version": "3.11.0"
  }
 },
 "nbformat": 4,
 "nbformat_minor": 5
}
