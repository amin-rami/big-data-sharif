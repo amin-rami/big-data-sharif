{
 "cells": [
  {
   "cell_type": "code",
   "execution_count": 1,
   "metadata": {},
   "outputs": [],
   "source": [
    "import numpy as np\n",
    "import pandas as pd\n",
    "import matplotlib.pyplot as plt\n",
    "from pyspark import SparkContext, SparkConf\n",
    "from pyspark.sql import SparkSession\n",
    "import seaborn as sns\n",
    "from operator import add\n",
    "from datetime import datetime\n",
    "from tqdm import tqdm\n",
    "import random"
   ]
  },
  {
   "cell_type": "markdown",
   "metadata": {},
   "source": [
    "### Loading data"
   ]
  },
  {
   "cell_type": "code",
   "execution_count": 2,
   "metadata": {},
   "outputs": [
    {
     "name": "stderr",
     "output_type": "stream",
     "text": [
      "Setting default log level to \"WARN\".\n",
      "To adjust logging level use sc.setLogLevel(newLevel). For SparkR, use setLogLevel(newLevel).\n"
     ]
    },
    {
     "name": "stdout",
     "output_type": "stream",
     "text": [
      "23/02/10 02:00:31 WARN NativeCodeLoader: Unable to load native-hadoop library for your platform... using builtin-java classes where applicable\n"
     ]
    }
   ],
   "source": [
    "spark = SparkSession \\\n",
    "    .builder \\\n",
    "    .appName(\"Spark_Processor\") \\\n",
    "    .master(\"local[*]\") \\\n",
    "    .getOrCreate()\n",
    "\n",
    "sc = spark.sparkContext"
   ]
  },
  {
   "cell_type": "code",
   "execution_count": 3,
   "metadata": {},
   "outputs": [
    {
     "name": "stdout",
     "output_type": "stream",
     "text": [
      "+-----------+---------+---------------+-------------+----------------+----------+-------------------+\n",
      "|DEVICE_CODE|SYSTEM_ID|ORIGINE_CAR_KEY|FINAL_CAR_KEY|CHECK_STATUS_KEY|COMPANY_ID|      PASS_DAY_TIME|\n",
      "+-----------+---------+---------------+-------------+----------------+----------+-------------------+\n",
      "|   22010053|      284|       64298503|     64298503|               6|       161|2021-12-22 00:53:59|\n",
      "|   22010039|      284|       65237311|     65237311|               6|       161|2021-12-22 01:37:17|\n",
      "|   22010053|      284|       65056837|     65056837|               6|       161|2021-12-22 01:18:50|\n",
      "|   22010054|      284|       37071281|     37071281|               6|       161|2021-12-22 00:29:51|\n",
      "|   22010047|      284|       66246576|     66246576|               6|       161|2021-12-22 01:38:26|\n",
      "|   22010053|      284|       41009942|     41009942|               6|       161|2021-12-22 01:12:44|\n",
      "|   22010078|      284|       32641909|     32641909|               6|       161|2021-12-22 01:23:50|\n",
      "|   22010039|      284|       41729616|     41729616|               6|       161|2021-12-22 00:43:12|\n",
      "|   22010040|      284|       59619288|     59619288|               6|       161|2021-12-22 01:28:18|\n",
      "|   22010057|      284|       61214613|     61214613|               6|       161|2021-12-22 00:45:52|\n",
      "+-----------+---------+---------------+-------------+----------------+----------+-------------------+\n",
      "only showing top 10 rows\n",
      "\n"
     ]
    }
   ],
   "source": [
    "data_df = spark.read.csv('MDA2022ProjectData.csv', header=True).sample(fraction=0.005)\n",
    "data_df = data_df.filter(data_df['ORIGINE_CAR_KEY'] == data_df['FINAL_CAR_KEY'])\n",
    "data_df.show(10)"
   ]
  },
  {
   "cell_type": "markdown",
   "metadata": {},
   "source": [
    "### Formatting data into desired format"
   ]
  },
  {
   "cell_type": "code",
   "execution_count": 4,
   "metadata": {},
   "outputs": [],
   "source": [
    "# convert data to rdd format\n",
    "raw_data_rdd = data_df.rdd.map(lambda x: (x['DEVICE_CODE'], x['PASS_DAY_TIME']))"
   ]
  },
  {
   "cell_type": "code",
   "execution_count": 5,
   "metadata": {},
   "outputs": [],
   "source": [
    "# find day and hour\n",
    "def to_day_hour(row):\n",
    "    camera_code, date_time = row\n",
    "    date_time = datetime.strptime(date_time, '%Y-%m-%d %H:%M:%S')\n",
    "    return (camera_code, (date_time.weekday(), date_time.hour))\n",
    "    "
   ]
  },
  {
   "cell_type": "code",
   "execution_count": 6,
   "metadata": {},
   "outputs": [
    {
     "name": "stderr",
     "output_type": "stream",
     "text": [
      "                                                                                \r"
     ]
    }
   ],
   "source": [
    "data_rdd = raw_data_rdd.map(to_day_hour)\n",
    "camera_list = data_rdd.map(lambda x: x[0]).distinct().collect()\n",
    "camera2index = {camera: index for index, camera in enumerate(camera_list)}\n",
    "index2camera = {index: camera for index, camera in enumerate(camera_list)}"
   ]
  },
  {
   "cell_type": "code",
   "execution_count": 7,
   "metadata": {},
   "outputs": [],
   "source": [
    "def count(row):\n",
    "    return (row, 1)\n",
    "\n",
    "data_values = data_rdd.map(count)"
   ]
  },
  {
   "cell_type": "code",
   "execution_count": 8,
   "metadata": {},
   "outputs": [],
   "source": [
    "M = np.zeros((len(camera_list), 24*7))"
   ]
  },
  {
   "cell_type": "code",
   "execution_count": 9,
   "metadata": {},
   "outputs": [
    {
     "name": "stderr",
     "output_type": "stream",
     "text": [
      "                                                                                \r"
     ]
    }
   ],
   "source": [
    "records = data_values.reduceByKey(add).collect()\n",
    "\n",
    "for record in records:\n",
    "    key, value = record\n",
    "    camera = key[0]\n",
    "    day, hour = key[1]\n",
    "    M[camera2index[camera], 24*day + hour] = value\n",
    "\n",
    "mean = M - np.mean(M, axis=1).reshape((-1, 1)) \n",
    "M = M - mean"
   ]
  },
  {
   "cell_type": "markdown",
   "metadata": {},
   "source": [
    "### Learning the collaborative filter"
   ]
  },
  {
   "cell_type": "code",
   "execution_count": 10,
   "metadata": {},
   "outputs": [],
   "source": [
    "MIN_CAMERA_DETECTS = 60\n",
    "DELETE_DETECT_COUNT = 40\n",
    "\n",
    "def train_test_split(ratings):\n",
    "    m = ratings.shape[0]\n",
    "    row_nonzero_count = np.count_nonzero(ratings, axis=1)\n",
    "    \n",
    "    train = np.array(ratings)\n",
    "    validation = np.zeros(ratings.shape)\n",
    "    \n",
    "    for i in range(m):\n",
    "        if row_nonzero_count[i] >= MIN_CAMERA_DETECTS:\n",
    "            row = ratings[i, :]\n",
    "            indices = np.where(row != 0)[0]\n",
    "            np.random.shuffle(indices)\n",
    "            validation[i, indices[:DELETE_DETECT_COUNT]] = ratings[i, indices[:DELETE_DETECT_COUNT]]\n",
    "            train[i, indices[:DELETE_DETECT_COUNT]] = 0\n",
    "            \n",
    "    return train, validation"
   ]
  },
  {
   "cell_type": "code",
   "execution_count": 11,
   "metadata": {},
   "outputs": [],
   "source": [
    "def rmse(prediction, ground_truth):\n",
    "    indices = np.where(ground_truth != 0)\n",
    "    prediction = prediction[indices]\n",
    "    ground_truth = ground_truth[indices]\n",
    "    return np.sqrt(mean_squared_error(prediction, ground_truth))"
   ]
  },
  {
   "cell_type": "code",
   "execution_count": 12,
   "metadata": {},
   "outputs": [],
   "source": [
    "class CF:\n",
    "\n",
    "  def __init__(self, n_epochs=200, n_latent_features=3, lmbda=0.1, learning_rate=1e-3):\n",
    "    self.n_epochs = n_epochs\n",
    "    self.n_latent_features = n_latent_features\n",
    "    self.lmbda = lmbda\n",
    "    self.learning_rate = learning_rate\n",
    "    self.train_error = None\n",
    "    self.val_error = None\n",
    "    self.P = None\n",
    "    self.Q = 0\n",
    "\n",
    "  def predictions(self, P, Q):\n",
    "    predictions = P.T @ Q\n",
    "    return predictions\n",
    "  \n",
    "  def fit(self, X_train, X_val):\n",
    "    camera, time = X_train.shape\n",
    "    self.train_error = np.zeros((self.n_epochs,))\n",
    "    self.val_error = np.zeros((self.n_epochs,))\n",
    "    \n",
    "    self.P = np.random.normal(size=(self.n_latent_features, camera))\n",
    "    self.Q = np.random.normal(size=(self.n_latent_features, time))\n",
    "    \n",
    "    observations = np.nonzero(X_train)\n",
    "    iters = len(observations[0])\n",
    "    \n",
    "    for epoch in tqdm(range(self.n_epochs)):\n",
    "        for it in range(iters):\n",
    "            u, i = (observations[0][it], observations[1][it])\n",
    "            eui = X_train[u, i] - np.dot(self.Q[:, i], self.P[:, u])\n",
    "            self.Q[:, i] += self.learning_rate*(eui*self.P[:, u] - self.lmbda*self.Q[:, i])\n",
    "            self.P[:, u] += self.learning_rate*(eui*self.Q[:, i] - self.lmbda*self.P[:, u])\n",
    "        predictions = self.predictions(self.P, self.Q)\n",
    "        self.train_error[epoch] = rmse(predictions, X_train)\n",
    "        self.val_error[epoch] = rmse(predictions, X_val)\n",
    "    return self\n",
    "\n",
    "  def predict(self, X_train, user_index):\n",
    "        pred_indices = np.where(X_train[user_index, :] == 0)\n",
    "        predictions = self.P[:, user_index].reshape(1, -1) @ self.Q[:, pred_indices[0]]\n",
    "        return predictions.reshape((-1, ))"
   ]
  },
  {
   "cell_type": "code",
   "execution_count": 13,
   "metadata": {},
   "outputs": [],
   "source": [
    "train, test = train_test_split(M)"
   ]
  },
  {
   "cell_type": "code",
   "execution_count": 14,
   "metadata": {},
   "outputs": [
    {
     "name": "stderr",
     "output_type": "stream",
     "text": [
      "100%|█████████████████████████████████████████| 100/100 [01:47<00:00,  1.07s/it]\n"
     ]
    }
   ],
   "source": [
    "cf = CF(learning_rate=0.0001, n_epochs=100).fit(train, test)"
   ]
  },
  {
   "cell_type": "markdown",
   "metadata": {},
   "source": [
    "### Ploting the training/test error"
   ]
  },
  {
   "cell_type": "code",
   "execution_count": 15,
   "metadata": {},
   "outputs": [
    {
     "name": "stdout",
     "output_type": "stream",
     "text": [
      "Final train error is: 0.13\n",
      "Final test error is: 0.14\n"
     ]
    },
    {
     "data": {
      "image/png": "[encoded data removed]",
      "text/plain": [
       "<Figure size 640x480 with 1 Axes>"
      ]
     },
     "metadata": {},
     "output_type": "display_data"
    }
   ],
   "source": [
    "plt.plot(np.array(range(1, cf.n_epochs+1)), cf.train_error, label='train error')\n",
    "plt.plot(np.array(range(1, cf.n_epochs+1)), cf.val_error, label='test error')\n",
    "plt.xlabel('epoch')\n",
    "plt.ylabel('cost')\n",
    "plt.legend()\n",
    "print(f'Final train error is: {cf.train_error[-1]:0.2f}')\n",
    "print(f'Final test error is: {cf.val_error[-1]:0.2f}')"
   ]
  },
  {
   "cell_type": "markdown",
   "metadata": {},
   "source": [
    "### Finding similar cameras using collaborative filtering"
   ]
  },
  {
   "cell_type": "markdown",
   "metadata": {},
   "source": [
    "Now that we have the latent features of each camera, we can find cameras that are similar to a specific camera by comparing their latent variable representation"
   ]
  },
  {
   "cell_type": "code",
   "execution_count": 16,
   "metadata": {},
   "outputs": [],
   "source": [
    "query_index = random.choice(range(len(camera_list)))\n",
    "query_latent_vector = cf.P[:, [query_index]]\n",
    "\n",
    "similarities = query_latent_vector.T @ cf.P\n",
    "indices = list(np.argsort(similarities.reshape((-1, )), )[::-1][:10])"
   ]
  },
  {
   "cell_type": "code",
   "execution_count": 17,
   "metadata": {},
   "outputs": [
    {
     "name": "stdout",
     "output_type": "stream",
     "text": [
      "query camera code:  801510\n",
      "------- Top 10 similar cameras -------\n",
      "1 - \n",
      "camera code:    100700853\n",
      "similarity:      3.59\n",
      "2 - \n",
      "camera code:    631353\n",
      "similarity:      3.08\n",
      "3 - \n",
      "camera code:    900225\n",
      "similarity:      2.93\n",
      "4 - \n",
      "camera code:    900212\n",
      "similarity:      2.66\n",
      "5 - \n",
      "camera code:    900269\n",
      "similarity:      2.44\n",
      "6 - \n",
      "camera code:    900273\n",
      "similarity:      2.41\n",
      "7 - \n",
      "camera code:    200101\n",
      "similarity:      2.38\n",
      "8 - \n",
      "camera code:    900223\n",
      "similarity:      2.37\n",
      "9 - \n",
      "camera code:    631634\n",
      "similarity:      2.32\n",
      "10 - \n",
      "camera code:    10015402\n",
      "similarity:      2.28\n"
     ]
    }
   ],
   "source": [
    "query_code = index2camera[query_index]\n",
    "print(f'query camera code:  {query_code}')\n",
    "print('------- Top 10 similar cameras -------')\n",
    "for i, index in enumerate(indices):\n",
    "    print(f'{i+1} - ')\n",
    "    print(f'camera code:    {index2camera[index]}')\n",
    "    print(f'similarity:      {similarities[0, index]:0.2f}')"
   ]
  }
 ],
 "metadata": {
  "kernelspec": {
   "display_name": "Python 3 (ipykernel)",
   "language": "python",
   "name": "python3"
  },
  "language_info": {
   "codemirror_mode": {
    "name": "ipython",
    "version": 3
   },
   "file_extension": ".py",
   "mimetype": "text/x-python",
   "name": "python",
   "nbconvert_exporter": "python",
   "pygments_lexer": "ipython3",
   "version": "3.11.0"
  }
 },
 "nbformat": 4,
 "nbformat_minor": 5
}
