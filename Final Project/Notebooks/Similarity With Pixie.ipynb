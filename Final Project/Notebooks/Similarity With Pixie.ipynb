{
 "cells": [
  {
   "cell_type": "code",
   "execution_count": 1,
   "metadata": {},
   "outputs": [],
   "source": [
    "from pyspark import SparkContext, SparkConf\n",
    "from pyspark.sql import SparkSession\n",
    "from operator import add\n",
    "from tqdm import tqdm\n",
    "import random\n",
    "import numpy as np"
   ]
  },
  {
   "cell_type": "markdown",
   "metadata": {},
   "source": [
    "### Loading data"
   ]
  },
  {
   "cell_type": "code",
   "execution_count": 2,
   "metadata": {},
   "outputs": [
    {
     "name": "stderr",
     "output_type": "stream",
     "text": [
      "Setting default log level to \"WARN\".\n",
      "To adjust logging level use sc.setLogLevel(newLevel). For SparkR, use setLogLevel(newLevel).\n"
     ]
    },
    {
     "name": "stdout",
     "output_type": "stream",
     "text": [
      "23/02/09 23:38:14 WARN NativeCodeLoader: Unable to load native-hadoop library for your platform... using builtin-java classes where applicable\n"
     ]
    }
   ],
   "source": [
    "spark = SparkSession \\\n",
    "    .builder \\\n",
    "    .appName(\"Spark_Processor\") \\\n",
    "    .master(\"local[*]\") \\\n",
    "    .getOrCreate()\n",
    "\n",
    "sc=spark.sparkContext"
   ]
  },
  {
   "cell_type": "code",
   "execution_count": 3,
   "metadata": {},
   "outputs": [],
   "source": [
    "data_df = spark.read.option('header', 'true').csv('MDA2022ProjectData.csv').sample(fraction=0.01)"
   ]
  },
  {
   "cell_type": "code",
   "execution_count": 4,
   "metadata": {},
   "outputs": [],
   "source": [
    "data_df = data_df.filter(data_df['ORIGINE_CAR_KEY'] == data_df['FINAL_CAR_KEY'])\n",
    "data_df = data_df.select(['DEVICE_CODE', 'ORIGINE_CAR_KEY'])\n",
    "data_rdd = data_df.rdd.map(lambda x: (x['DEVICE_CODE'], x['ORIGINE_CAR_KEY']))"
   ]
  },
  {
   "cell_type": "markdown",
   "metadata": {},
   "source": [
    "### Defining class for pin node and board node"
   ]
  },
  {
   "cell_type": "code",
   "execution_count": 5,
   "metadata": {},
   "outputs": [],
   "source": [
    "# Node class for creating our bipartite graph\n",
    "\n",
    "class Node:\n",
    "    def __init__(self, code):\n",
    "        self.neighbours = []\n",
    "        self.count = 0\n",
    "        self.code = code\n",
    "    \n",
    "    def add_neighbour(self, neighbour):\n",
    "        self.neighbours.append(neighbour)\n",
    "    \n",
    "    def get_neighbours(self):\n",
    "        return self.neighbours\n",
    "    \n",
    "    def add_count(self):\n",
    "        self.count = self.count + 1 \n",
    "    \n",
    "    def get_random_neighbour(self):\n",
    "        return random.choice(self.get_neighbours())\n"
   ]
  },
  {
   "cell_type": "markdown",
   "metadata": {},
   "source": [
    "### Assigning an index to each camera and creating node list"
   ]
  },
  {
   "cell_type": "code",
   "execution_count": 6,
   "metadata": {},
   "outputs": [
    {
     "name": "stderr",
     "output_type": "stream",
     "text": [
      "                                                                                \r"
     ]
    }
   ],
   "source": [
    "camera_list = data_rdd.map(lambda x: x[0]).distinct().collect()\n",
    "camera_node_list = tuple(Node(camera) for camera in camera_list)\n",
    "camera_name2index = {camera_name: index for index, camera_name in enumerate(camera_list)}"
   ]
  },
  {
   "cell_type": "markdown",
   "metadata": {},
   "source": [
    "### Assigning an index to each car and creating node list"
   ]
  },
  {
   "cell_type": "code",
   "execution_count": 7,
   "metadata": {},
   "outputs": [
    {
     "name": "stderr",
     "output_type": "stream",
     "text": [
      "                                                                                \r"
     ]
    }
   ],
   "source": [
    "car_list = data_rdd.map(lambda x: x[1]).distinct().collect()\n",
    "car_node_list = tuple(Node(car) for car  in car_list)\n",
    "car_name2index = {car_name: index for index, car_name in enumerate(car_list)}"
   ]
  },
  {
   "cell_type": "markdown",
   "metadata": {},
   "source": [
    "### Constructing the grapgh"
   ]
  },
  {
   "cell_type": "code",
   "execution_count": 8,
   "metadata": {},
   "outputs": [
    {
     "name": "stderr",
     "output_type": "stream",
     "text": [
      "100%|█████████████████████████████| 1244995/1244995 [00:01<00:00, 888079.28it/s]\n"
     ]
    }
   ],
   "source": [
    "data_list = data_rdd.collect()\n",
    "for record in tqdm(data_list):\n",
    "    camera_name = record[0]\n",
    "    car_name = record[1]\n",
    "    pin_node = camera_node_list[camera_name2index[camera_name]]\n",
    "    board_node = car_node_list[car_name2index[car_name]]\n",
    "    pin_node.add_neighbour(board_node)\n",
    "    board_node.add_neighbour(pin_node)\n"
   ]
  },
  {
   "cell_type": "markdown",
   "metadata": {},
   "source": [
    "### Pixie algorithm"
   ]
  },
  {
   "cell_type": "code",
   "execution_count": 9,
   "metadata": {},
   "outputs": [],
   "source": [
    "def pixie_algorithm(query_node, steps, alpha):\n",
    "    pin_node = query_node\n",
    "    for i in tqdm(range(steps)):\n",
    "        pin_node.add_count()\n",
    "        board_node = pin_node.get_random_neighbour()\n",
    "        pin_node = board_node.get_random_neighbour()\n",
    "        if np.random.rand() <= alpha:\n",
    "            pin_node = query_node\n"
   ]
  },
  {
   "cell_type": "markdown",
   "metadata": {},
   "source": [
    "### Querying a sample camera\n",
    "Here a choose a random camera and find similar cameras to it using pixie's algorithm"
   ]
  },
  {
   "cell_type": "code",
   "execution_count": 10,
   "metadata": {},
   "outputs": [
    {
     "name": "stderr",
     "output_type": "stream",
     "text": [
      "100%|███████████████████████████████| 500000/500000 [00:01<00:00, 457519.74it/s]\n"
     ]
    }
   ],
   "source": [
    "query_camera = random.choice(camera_node_list)\n",
    "pixie_algorithm(query_camera, 500000, 0.008)"
   ]
  },
  {
   "cell_type": "code",
   "execution_count": 11,
   "metadata": {},
   "outputs": [],
   "source": [
    "proximity_list = sorted(camera_node_list, key= lambda x: x.count, reverse=True)"
   ]
  },
  {
   "cell_type": "code",
   "execution_count": 13,
   "metadata": {},
   "outputs": [
    {
     "name": "stdout",
     "output_type": "stream",
     "text": [
      "code of query camera:   22009928\n",
      "------- Top 10 similar cameras -------\n",
      "1- camera code: 22009928         visited: 36005\n",
      "2- camera code: 900212         visited: 9593\n",
      "3- camera code: 900269         visited: 9363\n",
      "4- camera code: 900244         visited: 9128\n",
      "5- camera code: 100700853         visited: 8560\n",
      "6- camera code: 900142         visited: 7983\n",
      "7- camera code: 631634         visited: 7874\n",
      "8- camera code: 900222         visited: 6548\n",
      "9- camera code: 900101         visited: 5890\n",
      "10- camera code: 900218         visited: 5726\n"
     ]
    }
   ],
   "source": [
    "print(f'code of query camera:   {query_camera.code}')\n",
    "print('------- Top 10 similar cameras -------')\n",
    "for i in range(10):\n",
    "    camera = proximity_list[i]\n",
    "    print(f'{i+1}- camera code: {camera.code}         visited: {camera.count}')"
   ]
  }
 ],
 "metadata": {
  "kernelspec": {
   "display_name": "Python 3 (ipykernel)",
   "language": "python",
   "name": "python3"
  },
  "language_info": {
   "codemirror_mode": {
    "name": "ipython",
    "version": 3
   },
   "file_extension": ".py",
   "mimetype": "text/x-python",
   "name": "python",
   "nbconvert_exporter": "python",
   "pygments_lexer": "ipython3",
   "version": "3.11.0"
  }
 },
 "nbformat": 4,
 "nbformat_minor": 5
}
