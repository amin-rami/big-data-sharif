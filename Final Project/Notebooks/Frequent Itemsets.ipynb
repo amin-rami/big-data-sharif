{
 "cells": [
  {
   "cell_type": "markdown",
   "metadata": {},
   "source": [
    "### Loading Data"
   ]
  },
  {
   "cell_type": "code",
   "execution_count": 1,
   "metadata": {},
   "outputs": [],
   "source": [
    "from pyspark import SparkContext, SparkConf\n",
    "from pyspark.sql import SparkSession\n",
    "from operator import add"
   ]
  },
  {
   "cell_type": "code",
   "execution_count": 2,
   "metadata": {},
   "outputs": [
    {
     "name": "stderr",
     "output_type": "stream",
     "text": [
      "Setting default log level to \"WARN\".\n",
      "To adjust logging level use sc.setLogLevel(newLevel). For SparkR, use setLogLevel(newLevel).\n"
     ]
    },
    {
     "name": "stdout",
     "output_type": "stream",
     "text": [
      "23/02/10 03:44:24 WARN NativeCodeLoader: Unable to load native-hadoop library for your platform... using builtin-java classes where applicable\n"
     ]
    }
   ],
   "source": [
    "spark = SparkSession \\\n",
    "    .builder \\\n",
    "    .appName(\"Spark_Processor\") \\\n",
    "    .master(\"local[*]\") \\\n",
    "    .getOrCreate()\n",
    "\n",
    "sc=spark.sparkContext"
   ]
  },
  {
   "cell_type": "code",
   "execution_count": 3,
   "metadata": {},
   "outputs": [],
   "source": [
    "data_df = spark.read.option('header', 'true').csv('MDA2022ProjectData.csv').sample(fraction=0.03)"
   ]
  },
  {
   "cell_type": "code",
   "execution_count": 4,
   "metadata": {
    "scrolled": true
   },
   "outputs": [
    {
     "name": "stdout",
     "output_type": "stream",
     "text": [
      "+-----------+---------+---------------+-------------+----------------+----------+-------------------+\n",
      "|DEVICE_CODE|SYSTEM_ID|ORIGINE_CAR_KEY|FINAL_CAR_KEY|CHECK_STATUS_KEY|COMPANY_ID|      PASS_DAY_TIME|\n",
      "+-----------+---------+---------------+-------------+----------------+----------+-------------------+\n",
      "|   22010039|      284|       63562975|     64111706|               7|       161|2021-12-22 00:27:32|\n",
      "|   22010078|      284|       63474042|     64111706|               7|       161|2021-12-22 01:31:40|\n",
      "|   22010057|      284|       63069449|     63069449|               6|       161|2021-12-22 01:07:24|\n",
      "|   22010059|      284|       35168430|     35168430|               6|       161|2021-12-22 01:23:28|\n",
      "|   22010054|      284|       35299555|     64111706|               7|       161|2021-12-22 00:46:34|\n",
      "|   22010139|      284|       46152557|     46152557|               6|       264|2021-12-22 00:16:44|\n",
      "|   22010055|      284|       46352457|     46352457|               6|       161|2021-12-22 00:18:20|\n",
      "|   22010040|      284|       47778574|     47778574|               6|       161|2021-12-22 01:39:29|\n",
      "|   22010039|      284|       47689247|     47689247|               6|       161|2021-12-22 01:35:23|\n",
      "|   22010040|      284|       48757046|     64111706|               7|       161|2021-12-22 01:04:51|\n",
      "|   22010052|      284|       63691913|     63691913|               6|       161|2021-12-22 00:49:15|\n",
      "|  100701144|      284|       63213660|     63213660|               6|       264|2021-12-22 01:23:46|\n",
      "|   22010039|      284|       62838210|     62838210|               6|       161|2021-12-22 00:47:26|\n",
      "|   22010054|      284|       64965848|     64965848|               6|       161|2021-12-22 01:30:32|\n",
      "|   22010079|      284|       35887274|     35887274|               6|       161|2021-12-22 01:03:58|\n",
      "|   22010039|      284|       36067843|     36067843|               6|       161|2021-12-22 01:40:28|\n",
      "|   22010048|      284|       51891894|     51891894|               6|       161|2021-12-22 00:54:00|\n",
      "|   22010048|      284|       50851835|     64111706|               7|       161|2021-12-22 01:14:52|\n",
      "|   22010053|      284|       49402571|     49402571|               6|       161|2021-12-22 01:15:49|\n",
      "|   22010047|      284|       51643265|     51643265|               6|       161|2021-12-22 00:34:05|\n",
      "+-----------+---------+---------------+-------------+----------------+----------+-------------------+\n",
      "only showing top 20 rows\n",
      "\n"
     ]
    }
   ],
   "source": [
    "# a preview of the data\n",
    "data_df.show()"
   ]
  },
  {
   "cell_type": "code",
   "execution_count": 5,
   "metadata": {},
   "outputs": [],
   "source": [
    "# deleting outliers\n",
    "data_df = data_df.filter(data_df['ORIGINE_CAR_KEY'] == data_df['FINAL_CAR_KEY'])\n",
    "data_df = data_df.select(['DEVICE_CODE', 'ORIGINE_CAR_KEY', 'PASS_DAY_TIME'])\n",
    "data = data_df.rdd"
   ]
  },
  {
   "cell_type": "code",
   "execution_count": 6,
   "metadata": {},
   "outputs": [],
   "source": [
    "# a function to generate the required rdd\n",
    "def create_key_value(row):\n",
    "    key = (row['ORIGINE_CAR_KEY'], row['PASS_DAY_TIME'])\n",
    "    value = row['DEVICE_CODE']\n",
    "    return (key, value)"
   ]
  },
  {
   "cell_type": "code",
   "execution_count": 7,
   "metadata": {},
   "outputs": [
    {
     "name": "stderr",
     "output_type": "stream",
     "text": [
      "\r",
      "[Stage 2:>                                                          (0 + 1) / 1]\r",
      "\r",
      "                                                                                \r"
     ]
    },
    {
     "data": {
      "text/plain": [
       "[(('63069449', '2021-12-22 01:07:24'), '22010057'),\n",
       " (('35168430', '2021-12-22 01:23:28'), '22010059'),\n",
       " (('46152557', '2021-12-22 00:16:44'), '22010139'),\n",
       " (('46352457', '2021-12-22 00:18:20'), '22010055'),\n",
       " (('47778574', '2021-12-22 01:39:29'), '22010040'),\n",
       " (('47689247', '2021-12-22 01:35:23'), '22010039'),\n",
       " (('63691913', '2021-12-22 00:49:15'), '22010052'),\n",
       " (('63213660', '2021-12-22 01:23:46'), '100701144'),\n",
       " (('62838210', '2021-12-22 00:47:26'), '22010039'),\n",
       " (('64965848', '2021-12-22 01:30:32'), '22010054'),\n",
       " (('35887274', '2021-12-22 01:03:58'), '22010079'),\n",
       " (('36067843', '2021-12-22 01:40:28'), '22010039'),\n",
       " (('51891894', '2021-12-22 00:54:00'), '22010048'),\n",
       " (('49402571', '2021-12-22 01:15:49'), '22010053'),\n",
       " (('51643265', '2021-12-22 00:34:05'), '22010047'),\n",
       " (('64414455', '2021-12-22 00:37:39'), '22010054'),\n",
       " (('52102190', '2021-12-22 00:47:03'), '100701119'),\n",
       " (('51734068', '2021-12-22 00:59:22'), '22010039'),\n",
       " (('49552551', '2021-12-22 00:23:18'), '22010053'),\n",
       " (('50015078', '2021-12-22 00:54:42'), '22010040')]"
      ]
     },
     "execution_count": 7,
     "metadata": {},
     "output_type": "execute_result"
    }
   ],
   "source": [
    "# creating the required rdd\n",
    "data = data.map(create_key_value)\n",
    "data.take(20)"
   ]
  },
  {
   "cell_type": "code",
   "execution_count": 8,
   "metadata": {},
   "outputs": [],
   "source": [
    "# cleaning the data: for some cameras, a car had been submited mutiple time in a single moment\n",
    "# which is not rational. so, we will remove this redundancy\n",
    "def day_time(basket):\n",
    "    plate = basket[0][0]\n",
    "    day_time = basket[0][1]\n",
    "    camera_code = basket[1]\n",
    "    day, time = day_time.split()\n",
    "    time = time[:-3]\n",
    "    return ((plate, day + \" \" + time), camera_code)\n",
    "\n",
    "data_modified = data.map(day_time)\n",
    "clean_data = data_modified.groupByKey().mapValues(lambda x: tuple(set(tuple(x))))"
   ]
  },
  {
   "cell_type": "code",
   "execution_count": 9,
   "metadata": {},
   "outputs": [],
   "source": [
    "# removing time, leaving only day\n",
    "def day(basket):\n",
    "    plate = basket[0][0]\n",
    "    day_time = basket[0][1]\n",
    "    camera_codes = basket[1]\n",
    "    day = day_time.split()[0]\n",
    "    return ((plate, day), camera_codes)\n",
    "\n",
    "def flatten(x):\n",
    "    if isinstance(x, str):\n",
    "        yield x\n",
    "    else:\n",
    "        for item in x:\n",
    "            yield from flatten(item)\n",
    "\n",
    "clean_data = clean_data.map(day)\n",
    "clean_data = clean_data.groupByKey().mapValues(tuple).mapValues(lambda x: tuple(flatten(x)))\n",
    "camera_baskets = clean_data.values()"
   ]
  },
  {
   "cell_type": "markdown",
   "metadata": {},
   "source": [
    "## A-Priori Algorithm"
   ]
  },
  {
   "cell_type": "code",
   "execution_count": 10,
   "metadata": {},
   "outputs": [],
   "source": [
    "# counting the visits to each camera\n",
    "def extract_cameras(basket):\n",
    "    items = tuple((camera, 1) for camera in basket)\n",
    "    return items\n",
    "\n",
    "camera_count = camera_baskets.flatMap(extract_cameras).reduceByKey(add)"
   ]
  },
  {
   "cell_type": "code",
   "execution_count": 11,
   "metadata": {},
   "outputs": [
    {
     "name": "stderr",
     "output_type": "stream",
     "text": [
      "[Stage 10:=======================================================>(56 + 1) / 57]\r"
     ]
    },
    {
     "name": "stdout",
     "output_type": "stream",
     "text": [
      "mean camera count:    3858.59\n",
      "std of camera count:  8506.71\n",
      "support threshold:    7261.27\n"
     ]
    },
    {
     "name": "stderr",
     "output_type": "stream",
     "text": [
      "\r",
      "                                                                                \r"
     ]
    }
   ],
   "source": [
    "# calculating support threshold. we set it equal to mean + 0.4 * std\n",
    "mean_camera_count = camera_count.values().mean()\n",
    "std_camera_count = camera_count.values().stdev()\n",
    "SUPPORT_S =  mean_camera_count +  0.4 * std_camera_count\n",
    "print(f'mean camera count:    {mean_camera_count:.2f}')\n",
    "print(f'std of camera count:  {std_camera_count:.2f}')\n",
    "print(f'support threshold:    {SUPPORT_S:0.2f}')"
   ]
  },
  {
   "cell_type": "code",
   "execution_count": 12,
   "metadata": {},
   "outputs": [],
   "source": [
    "# finding the frequently visited cameras\n",
    "frequent_cameras = camera_count.filter(lambda x: x[1] >= SUPPORT_S)"
   ]
  },
  {
   "cell_type": "code",
   "execution_count": 13,
   "metadata": {},
   "outputs": [
    {
     "name": "stderr",
     "output_type": "stream",
     "text": [
      "                                                                                \r"
     ]
    }
   ],
   "source": [
    "# broadcasting the frequent cameras\n",
    "frequent_cameras_list = sc.broadcast(frozenset(frequent_cameras.map(lambda x: x[0]).collect()))"
   ]
  },
  {
   "cell_type": "code",
   "execution_count": 14,
   "metadata": {},
   "outputs": [],
   "source": [
    "# remove cameras which are not frequents\n",
    "def remove_infrequent_cameras(basket):\n",
    "    return tuple(item for item in basket if item in frequent_cameras_list.value)\n",
    "\n",
    "baskets_with_frequent_cameras = camera_baskets.map(remove_infrequent_cameras)    \n",
    "baskets_with_frequent_cameras = baskets_with_frequent_cameras.filter(lambda x: len(x)<350)"
   ]
  },
  {
   "cell_type": "code",
   "execution_count": 15,
   "metadata": {},
   "outputs": [],
   "source": [
    "# creating two tuples\n",
    "def create_two_tuple(basket):\n",
    "    n = len(basket)\n",
    "    two_tuples = []\n",
    "    \n",
    "    for i in range(n):\n",
    "        for j in range(i+1, n):\n",
    "            two_tuple = tuple(sorted([basket[i], basket[j]]))\n",
    "            if len(set(two_tuple)) == 2:\n",
    "                two_tuples.append((two_tuple, 1))\n",
    "    return two_tuples\n",
    "\n",
    "frequent_two_tuples = baskets_with_frequent_cameras.flatMap(create_two_tuple).reduceByKey(add).filter(lambda x: x[1] >= SUPPORT_S)"
   ]
  },
  {
   "cell_type": "code",
   "execution_count": 16,
   "metadata": {
    "scrolled": true
   },
   "outputs": [
    {
     "name": "stderr",
     "output_type": "stream",
     "text": [
      "[Stage 41:================================================>       (49 + 8) / 57]\r"
     ]
    },
    {
     "name": "stdout",
     "output_type": "stream",
     "text": [
      "number of two tuples is: 33\n",
      "===================================\n",
      "===== top frequent two tuples =====\n",
      "(('22010039', '22010061'), 42802)\n",
      "(('22010040', '22010061'), 38219)\n",
      "(('22010053', '22010061'), 33258)\n",
      "(('22010047', '22010061'), 29518)\n",
      "(('22010039', '22010040'), 29389)\n",
      "(('22010039', '22010053'), 24383)\n",
      "(('22010044', '22010061'), 22361)\n",
      "(('22010040', '22010053'), 22024)\n",
      "(('22010039', '22010047'), 21202)\n",
      "(('22010048', '22010061'), 20349)\n"
     ]
    },
    {
     "name": "stderr",
     "output_type": "stream",
     "text": [
      "\r",
      "                                                                                \r"
     ]
    }
   ],
   "source": [
    "# results\n",
    "top_two_tuples = frequent_two_tuples.sortBy(lambda x: x[1], ascending=False).take(10)\n",
    "print(f'number of two tuples is: {frequent_two_tuples.count()}')\n",
    "print('===================================')\n",
    "print('===== top frequent two tuples =====')\n",
    "for two_tuple in top_two_tuples:\n",
    "    print(two_tuple)\n"
   ]
  },
  {
   "cell_type": "code",
   "execution_count": 17,
   "metadata": {},
   "outputs": [],
   "source": [
    "# creating three tuples\n",
    "def create_three_tuples(basket):\n",
    "    n = len(basket)\n",
    "    three_tuples = []\n",
    "    \n",
    "    for i in range(n):\n",
    "        for j in range(i+1, n):\n",
    "            for k in range(j+1, n):\n",
    "                three_tuple = tuple(sorted([basket[i], basket[j], basket[k]]))\n",
    "                if len(set(three_tuple)) == 3:\n",
    "                    three_tuples.append((three_tuple, 1))\n",
    "    return three_tuples\n",
    "\n",
    "frequent_three_tuples = baskets_with_frequent_cameras.flatMap(create_three_tuples).reduceByKey(add).filter(lambda x: x[1] >= SUPPORT_S)"
   ]
  },
  {
   "cell_type": "code",
   "execution_count": 18,
   "metadata": {},
   "outputs": [
    {
     "name": "stderr",
     "output_type": "stream",
     "text": [
      "                                                                                \r"
     ]
    },
    {
     "name": "stdout",
     "output_type": "stream",
     "text": [
      "number of three tuples is: 267\n",
      "=================================\n",
      "===== top frequent three tuples =====\n",
      "(('22010039', '22010040', '22010061'), 1312097)\n",
      "(('22010039', '22010053', '22010061'), 1027128)\n",
      "(('22010040', '22010053', '22010061'), 950212)\n",
      "(('22010039', '22010047', '22010061'), 917659)\n",
      "(('22010040', '22010047', '22010061'), 854912)\n",
      "(('22010039', '22010040', '22010053'), 772502)\n",
      "(('22010047', '22010053', '22010061'), 760622)\n",
      "(('22010039', '22010044', '22010061'), 714274)\n",
      "(('22010039', '22010040', '22010047'), 672416)\n",
      "(('22010039', '22010048', '22010061'), 666648)\n"
     ]
    },
    {
     "name": "stderr",
     "output_type": "stream",
     "text": [
      "\r",
      "[Stage 63:==========================================>             (43 + 8) / 57]\r",
      "\r",
      "                                                                                \r"
     ]
    }
   ],
   "source": [
    "# results\n",
    "top_three_tuples = frequent_three_tuples.sortBy(lambda x: x[1], ascending=False).take(10)\n",
    "print(f'number of three tuples is: {frequent_three_tuples.count()}')\n",
    "print('=================================')\n",
    "print('===== top frequent three tuples =====')\n",
    "for three_tuple in top_three_tuples:\n",
    "    print(three_tuple)"
   ]
  },
  {
   "cell_type": "markdown",
   "metadata": {},
   "source": [
    "## SON Algorithm"
   ]
  },
  {
   "cell_type": "code",
   "execution_count": 11,
   "metadata": {},
   "outputs": [],
   "source": [
    "# setting the hyperparameters and spliting the data into chunks\n",
    "NUM_OF_CHUNKS = 3\n",
    "RELAXING_FACTOR = 1.2\n",
    "SUPPORT_S = 3000\n",
    "SON_SUPPORT_S = SUPPORT_S/(NUM_OF_CHUNKS * RELAXING_FACTOR)\n",
    "\n",
    "son_final_frequent_two_tuples = sc.parallelize([])\n",
    "son_final_frequent_three_tuples = sc.parallelize([])\n",
    "\n",
    "def hash_data(basket):\n",
    "    x = sum(int(camera_code) for camera_code in basket) % NUM_OF_CHUNKS\n",
    "    return (x, basket)\n",
    "\n",
    "hashed_baskets = camera_baskets.map(hash_data)\n",
    "\n",
    "rdd1 = hashed_baskets.filter(lambda x: x[0] == 0).values()\n",
    "rdd2 = hashed_baskets.filter(lambda x: x[0] == 1).values()\n",
    "rdd3 = hashed_baskets.filter(lambda x: x[0] == 2).values()\n",
    "\n",
    "data_chunks = [rdd1, rdd2, rdd3]"
   ]
  },
  {
   "cell_type": "code",
   "execution_count": 12,
   "metadata": {},
   "outputs": [
    {
     "name": "stderr",
     "output_type": "stream",
     "text": [
      "                                                                                \r"
     ]
    }
   ],
   "source": [
    "# creating candidates\n",
    "\n",
    "def son_create_two_tuples(basket):\n",
    "    n = len(basket)\n",
    "    two_tuples = []\n",
    "    \n",
    "    for i in range(n):\n",
    "        for j in range(i+1, n):\n",
    "            if basket[i] in son_frequent_cameras_list.value and basket[j] in son_frequent_cameras_list.value:\n",
    "                two_tuple = tuple(sorted([basket[i], basket[j]]))\n",
    "                if len(set(two_tuple)) == 2:\n",
    "                    two_tuples.append((two_tuple, 1))\n",
    "    return two_tuples\n",
    "\n",
    "def son_create_three_tuples(basket):\n",
    "    n = len(basket)\n",
    "    three_tuples = []\n",
    "    \n",
    "    for i in range(n):\n",
    "        for j in range(i+1, n):\n",
    "            for k in range(j+1, n):\n",
    "                if basket[i] in son_frequent_cameras_list.value and basket[j] in son_frequent_cameras_list.value and basket[k] in son_frequent_cameras_list.value:\n",
    "                    three_tuple = tuple(sorted([basket[i], basket[j], basket[k]]))\n",
    "                    if len(set(three_tuple)) == 3:\n",
    "                        three_tuples.append((three_tuple, 1))\n",
    "    return three_tuples\n",
    "                    \n",
    "def son_extract_cameras(basket):\n",
    "    return [(camera_code, 1) for camera_code in basket]\n",
    "\n",
    "def son_remove_infrequent_cameras(basket):\n",
    "    return tuple(camera_code for camera_code in basket if camera_code in son_frequent_cameras_list.value)\n",
    "\n",
    "for chunk in data_chunks:\n",
    "    camera_count = chunk.flatMap(son_extract_cameras).reduceByKey(add)\n",
    "    \n",
    "    son_frequent_cameras = camera_count.filter(lambda x: x[1] >= SON_SUPPORT_S)\n",
    "    son_frequent_cameras_list = sc.broadcast(frozenset(son_frequent_cameras.keys().collect()))\n",
    "    \n",
    "    son_baskets_with_frequent_cameras = chunk.map(son_remove_infrequent_cameras)\n",
    "    son_baskets_with_frequent_cameras = son_baskets_with_frequent_cameras.filter(lambda x: len(x) < 350)\n",
    "    \n",
    "    son_frequent_two_tuples = son_baskets_with_frequent_cameras.flatMap(son_create_two_tuples).reduceByKey(add).filter(lambda x: x[1] >= SON_SUPPORT_S)\n",
    "    son_frequent_three_tuples = son_baskets_with_frequent_cameras.flatMap(son_create_three_tuples).reduceByKey(add).filter(lambda x: x[1] >= SON_SUPPORT_S)\n",
    "    \n",
    "    son_final_frequent_two_tuples = son_final_frequent_two_tuples.union(son_frequent_two_tuples)\n",
    "    son_final_frequent_three_tuples = son_final_frequent_three_tuples.union(son_frequent_three_tuples)\n"
   ]
  },
  {
   "cell_type": "code",
   "execution_count": 13,
   "metadata": {},
   "outputs": [
    {
     "name": "stderr",
     "output_type": "stream",
     "text": [
      "                                                                                \r"
     ]
    }
   ],
   "source": [
    "# broadcasting the candidates\n",
    "son_final_frequent_two_tuples_list = sc.broadcast(frozenset(son_final_frequent_two_tuples.keys().collect()))\n",
    "son_final_frequent_three_tuples_list = sc.broadcast(frozenset(son_final_frequent_three_tuples.keys().collect()))"
   ]
  },
  {
   "cell_type": "code",
   "execution_count": 20,
   "metadata": {},
   "outputs": [],
   "source": [
    "# verifying the candidates\n",
    "def verify_two_tuple(basket):\n",
    "    n = len(basket)\n",
    "    two_tuples = []\n",
    "    \n",
    "    for i in range(n):\n",
    "        for j in range(i+1, n):\n",
    "            two_tuple = tuple(sorted([basket[i], basket[j]]))\n",
    "            if two_tuple in son_final_frequent_two_tuples_list.value and len(set(two_tuple)) == 2:\n",
    "                two_tuples.append((two_tuple, 1))\n",
    "    return two_tuples\n",
    "\n",
    "def verify_three_tuple(basket):\n",
    "    n = len(basket)\n",
    "    three_tuples = []\n",
    "    \n",
    "    for i in range(n):\n",
    "        for j in range(i+1, n):\n",
    "            for k in range(j+1, n):\n",
    "                three_tuple = tuple(sorted([basket[i], basket[j], basket[k]]))\n",
    "                if three_tuple in son_final_frequent_three_tuples_list.value and len(set(three_tuple)) == 3:\n",
    "                    three_tuples.append((three_tuple, 1))\n",
    "    return three_tuples\n",
    "\n",
    "son_camera_baskets = baskets_with_frequent_cameras\n",
    "\n",
    "son_final_frequent_two_tuples = son_camera_baskets.flatMap(verify_two_tuple).reduceByKey(add).filter(lambda x: x[1] >= SUPPORT_S)\n",
    "son_final_frequent_three_tuples = son_camera_baskets.flatMap(verify_three_tuple).reduceByKey(add).filter(lambda x: x[1]>= SUPPORT_S)\n"
   ]
  },
  {
   "cell_type": "code",
   "execution_count": 19,
   "metadata": {},
   "outputs": [
    {
     "name": "stderr",
     "output_type": "stream",
     "text": [
      "                                                                                \r"
     ]
    },
    {
     "name": "stdout",
     "output_type": "stream",
     "text": [
      "number of two tuples is: 33\n",
      "===================================\n",
      "===== top frequent two tuples =====\n",
      "(('22010039', '22010061'), 42802)\n",
      "(('22010040', '22010061'), 38219)\n",
      "(('22010053', '22010061'), 33258)\n",
      "(('22010047', '22010061'), 29518)\n",
      "(('22010039', '22010040'), 29389)\n",
      "(('22010039', '22010053'), 24383)\n",
      "(('22010044', '22010061'), 22361)\n",
      "(('22010040', '22010053'), 22024)\n",
      "(('22010039', '22010047'), 21202)\n",
      "(('22010048', '22010061'), 20349)\n"
     ]
    },
    {
     "name": "stderr",
     "output_type": "stream",
     "text": [
      "\r",
      "[Stage 90:===============================================>        (48 + 8) / 57]\r",
      "\r",
      "                                                                                \r"
     ]
    }
   ],
   "source": [
    "# results\n",
    "top_two_tuples = son_final_frequent_two_tuples.sortBy(lambda x: x[1], ascending=False).take(10)\n",
    "print(f'number of two tuples is: {son_final_frequent_two_tuples.count()}')\n",
    "print('===================================')\n",
    "print('===== top frequent two tuples =====')\n",
    "for two_tuple in top_two_tuples:\n",
    "    print(two_tuple)\n"
   ]
  },
  {
   "cell_type": "code",
   "execution_count": 20,
   "metadata": {},
   "outputs": [
    {
     "name": "stderr",
     "output_type": "stream",
     "text": [
      "                                                                                \r"
     ]
    },
    {
     "name": "stdout",
     "output_type": "stream",
     "text": [
      "number of three tuples is: 267\n",
      "=================================\n",
      "===== top frequent three tuples =====\n",
      "(('22010039', '22010040', '22010061'), 1312097)\n",
      "(('22010039', '22010053', '22010061'), 1027128)\n",
      "(('22010040', '22010053', '22010061'), 950212)\n",
      "(('22010039', '22010047', '22010061'), 917659)\n",
      "(('22010040', '22010047', '22010061'), 854912)\n",
      "(('22010039', '22010040', '22010053'), 772502)\n",
      "(('22010047', '22010053', '22010061'), 760622)\n",
      "(('22010039', '22010044', '22010061'), 714274)\n",
      "(('22010039', '22010040', '22010047'), 672416)\n",
      "(('22010039', '22010048', '22010061'), 666648)\n"
     ]
    },
    {
     "name": "stderr",
     "output_type": "stream",
     "text": [
      "\r",
      "[Stage 112:=======================================>               (41 + 8) / 57]\r",
      "\r",
      "                                                                                \r"
     ]
    }
   ],
   "source": [
    "# results\n",
    "top_three_tuples = son_final_frequent_three_tuples.sortBy(lambda x: x[1], ascending=False).take(10)\n",
    "print(f'number of three tuples is: {son_final_frequent_three_tuples.count()}')\n",
    "print('=================================')\n",
    "print('===== top frequent three tuples =====')\n",
    "for three_tuple in top_three_tuples:\n",
    "    print(three_tuple)\n",
    "    "
   ]
  }
 ],
 "metadata": {
  "kernelspec": {
   "display_name": "Python 3 (ipykernel)",
   "language": "python",
   "name": "python3"
  },
  "language_info": {
   "codemirror_mode": {
    "name": "ipython",
    "version": 3
   },
   "file_extension": ".py",
   "mimetype": "text/x-python",
   "name": "python",
   "nbconvert_exporter": "python",
   "pygments_lexer": "ipython3",
   "version": "3.11.0"
  }
 },
 "nbformat": 4,
 "nbformat_minor": 5
}
