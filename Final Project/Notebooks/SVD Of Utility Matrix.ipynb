{
 "cells": [
  {
   "cell_type": "code",
   "execution_count": 1,
   "metadata": {},
   "outputs": [],
   "source": [
    "import numpy as np\n",
    "import pandas as pd\n",
    "import matplotlib.pyplot as plt\n",
    "from pyspark import SparkContext, SparkConf\n",
    "from pyspark.sql import SparkSession\n",
    "import random\n",
    "from operator import add"
   ]
  },
  {
   "cell_type": "code",
   "execution_count": 2,
   "metadata": {},
   "outputs": [
    {
     "name": "stderr",
     "output_type": "stream",
     "text": [
      "Setting default log level to \"WARN\".\n",
      "To adjust logging level use sc.setLogLevel(newLevel). For SparkR, use setLogLevel(newLevel).\n"
     ]
    },
    {
     "name": "stdout",
     "output_type": "stream",
     "text": [
      "23/02/09 09:30:58 WARN NativeCodeLoader: Unable to load native-hadoop library for your platform... using builtin-java classes where applicable\n"
     ]
    }
   ],
   "source": [
    "spark = SparkSession \\\n",
    "    .builder \\\n",
    "    .appName(\"Spark Processor\") \\\n",
    "    .master(\"local[*]\") \\\n",
    "    .getOrCreate()\n",
    "\n",
    "sc = spark.sparkContext"
   ]
  },
  {
   "cell_type": "markdown",
   "metadata": {},
   "source": [
    "### Pre-Procesing"
   ]
  },
  {
   "cell_type": "code",
   "execution_count": 3,
   "metadata": {},
   "outputs": [
    {
     "name": "stdout",
     "output_type": "stream",
     "text": [
      "+-----------+---------+---------------+-------------+----------------+----------+-------------------+\n",
      "|DEVICE_CODE|SYSTEM_ID|ORIGINE_CAR_KEY|FINAL_CAR_KEY|CHECK_STATUS_KEY|COMPANY_ID|      PASS_DAY_TIME|\n",
      "+-----------+---------+---------------+-------------+----------------+----------+-------------------+\n",
      "|   22010039|      284|       41640633|     41640633|               6|       161|2021-12-22 00:28:42|\n",
      "|     900212|      283|       77694805|     77694805|               5|       264|2021-12-22 00:09:58|\n",
      "|     900223|      283|       86389948|     86389948|               5|       264|2021-12-22 00:06:00|\n",
      "|     900149|      283|       27582946|     27582946|               5|       264|2021-12-22 00:12:13|\n",
      "|     900149|      283|       21418836|     21418836|               5|       264|2021-12-22 00:04:28|\n",
      "|     900164|      283|       19187915|     19187915|               5|       264|2021-12-22 00:06:15|\n",
      "|     631357|       81|       19857059|     19857059|               5|       161|2021-12-22 00:19:14|\n",
      "|   22010031|       81|       20292220|     20292220|               5|       161|2021-12-22 00:06:06|\n",
      "|     900149|      283|       17853250|     17853250|               5|       264|2021-12-22 00:06:47|\n",
      "|     230107|       81|       23330831|     23330831|               5|       161|2021-12-22 00:00:25|\n",
      "+-----------+---------+---------------+-------------+----------------+----------+-------------------+\n",
      "only showing top 10 rows\n",
      "\n"
     ]
    }
   ],
   "source": [
    "data_df = spark.read.csv('MDA2022ProjectData.csv', header=True).sample(fraction=0.001)\n",
    "data_df = data_df.filter(data_df['ORIGINE_CAR_KEY'] == data_df['FINAL_CAR_KEY'])\n",
    "data_df.show(10)"
   ]
  },
  {
   "cell_type": "code",
   "execution_count": 4,
   "metadata": {},
   "outputs": [
    {
     "name": "stdout",
     "output_type": "stream",
     "text": [
      "+-----------+---------------+\n",
      "|DEVICE_CODE|ORIGINE_CAR_KEY|\n",
      "+-----------+---------------+\n",
      "|   22010039|       41640633|\n",
      "|     900212|       77694805|\n",
      "|     900223|       86389948|\n",
      "|     900149|       27582946|\n",
      "|     900149|       21418836|\n",
      "|     900164|       19187915|\n",
      "|     631357|       19857059|\n",
      "|   22010031|       20292220|\n",
      "|     900149|       17853250|\n",
      "|     230107|       23330831|\n",
      "|     900236|       17970376|\n",
      "|  100701092|        8250637|\n",
      "|   22009972|        7652860|\n",
      "|   22010053|      104926289|\n",
      "|     900246|        7634794|\n",
      "|     900101|       52326830|\n",
      "|     900155|       44543349|\n",
      "|     205201|       32610813|\n",
      "|     900174|       16642481|\n",
      "|     211001|       15650532|\n",
      "+-----------+---------------+\n",
      "only showing top 20 rows\n",
      "\n"
     ]
    }
   ],
   "source": [
    "data_df = data_df.select(['DEVICE_CODE', 'ORIGINE_CAR_KEY'])\n",
    "data_df.show()"
   ]
  },
  {
   "cell_type": "code",
   "execution_count": 5,
   "metadata": {},
   "outputs": [],
   "source": [
    "data_rdd = data_df.rdd.map(lambda x: (x['DEVICE_CODE'], x['ORIGINE_CAR_KEY']))"
   ]
  },
  {
   "cell_type": "markdown",
   "metadata": {},
   "source": [
    "### Calculating Camera Count"
   ]
  },
  {
   "cell_type": "code",
   "execution_count": 6,
   "metadata": {},
   "outputs": [],
   "source": [
    "# camera count: number of times each camera has detected a car\n",
    "camera_count = data_rdd.groupBy(lambda x: x[0]).map(lambda x: (x[0], len(x[1])))"
   ]
  },
  {
   "cell_type": "code",
   "execution_count": 7,
   "metadata": {},
   "outputs": [
    {
     "name": "stderr",
     "output_type": "stream",
     "text": [
      "                                                                                \r"
     ]
    }
   ],
   "source": [
    "camera_count_mean = camera_count.values().mean()\n",
    "camera_count_sigma = np.sqrt(camera_count.values().variance())"
   ]
  },
  {
   "cell_type": "code",
   "execution_count": 8,
   "metadata": {},
   "outputs": [
    {
     "name": "stdout",
     "output_type": "stream",
     "text": [
      "==== statistics of camera counts ====\n",
      "mean: 155.28\n",
      "standard deviation: 304.72\n"
     ]
    }
   ],
   "source": [
    "print('==== statistics of camera counts ====')\n",
    "print(f'mean: {camera_count_mean:.2f}')\n",
    "print(f'standard deviation: {camera_count_sigma:.2f}')"
   ]
  },
  {
   "cell_type": "code",
   "execution_count": 9,
   "metadata": {},
   "outputs": [],
   "source": [
    "# now we find the frequently visited cameras\n",
    "# we consider a camera a frequently visited camera if it is visited more than mean + std\n",
    "frequent_camera = camera_count.filter(lambda x: x[1] >= camera_count_mean + camera_count_sigma)"
   ]
  },
  {
   "cell_type": "code",
   "execution_count": 10,
   "metadata": {},
   "outputs": [
    {
     "name": "stderr",
     "output_type": "stream",
     "text": [
      "\r",
      "[Stage 8:==========================================>              (42 + 8) / 57]\r",
      "\r",
      "[Stage 8:======================================================>  (54 + 3) / 57]\r"
     ]
    },
    {
     "name": "stdout",
     "output_type": "stream",
     "text": [
      "number of frequent cameras: 77\n"
     ]
    },
    {
     "name": "stderr",
     "output_type": "stream",
     "text": [
      "\r",
      "                                                                                \r"
     ]
    }
   ],
   "source": [
    "print(f'number of frequent cameras: {frequent_camera.count()}')"
   ]
  },
  {
   "cell_type": "markdown",
   "metadata": {},
   "source": [
    "### Calcucalting Car Count"
   ]
  },
  {
   "cell_type": "code",
   "execution_count": 12,
   "metadata": {},
   "outputs": [],
   "source": [
    "# car count: number of times each car has passed by a camera\n",
    "car_count = data_rdd.groupBy(lambda x: x[1]).map(lambda x: (x[0], len(x[1])))"
   ]
  },
  {
   "cell_type": "code",
   "execution_count": 13,
   "metadata": {},
   "outputs": [
    {
     "name": "stderr",
     "output_type": "stream",
     "text": [
      "                                                                                \r"
     ]
    }
   ],
   "source": [
    "car_count_mean = car_count.values().mean()\n",
    "car_count_sigma = np.sqrt(car_count.values().variance())"
   ]
  },
  {
   "cell_type": "code",
   "execution_count": 14,
   "metadata": {},
   "outputs": [
    {
     "name": "stdout",
     "output_type": "stream",
     "text": [
      "==== statistics of ca counts ====\n",
      "mean: 1.05\n",
      "standard deviation: 1.04\n"
     ]
    }
   ],
   "source": [
    "print('==== statistics of ca counts ====')\n",
    "print(f'mean: {car_count_mean:.2f}')\n",
    "print(f'standard deviation: {car_count_sigma:.2f}')"
   ]
  },
  {
   "cell_type": "code",
   "execution_count": 15,
   "metadata": {},
   "outputs": [],
   "source": [
    "# now we find the frequent cars(cars that vistit cameras frequenlt)\n",
    "# we consider a car a frequent car if it is visited more than mean + 0.5 * std by cameras\n",
    "frequent_cars = car_count.filter(lambda x: x[1] >= car_count_mean + 0.5 *car_count_sigma)"
   ]
  },
  {
   "cell_type": "code",
   "execution_count": 16,
   "metadata": {},
   "outputs": [
    {
     "name": "stderr",
     "output_type": "stream",
     "text": [
      "\r",
      "[Stage 14:==============================>                         (31 + 8) / 57]\r",
      "\r",
      "[Stage 14:===========================================>            (44 + 8) / 57]\r"
     ]
    },
    {
     "name": "stdout",
     "output_type": "stream",
     "text": [
      "number of frequent cars: 5385\n"
     ]
    },
    {
     "name": "stderr",
     "output_type": "stream",
     "text": [
      "\r",
      "                                                                                \r"
     ]
    }
   ],
   "source": [
    "print(f'number of frequent cars: {frequent_cars.count()}')"
   ]
  },
  {
   "cell_type": "markdown",
   "metadata": {},
   "source": [
    "### Assigning an index to each camera "
   ]
  },
  {
   "cell_type": "code",
   "execution_count": 17,
   "metadata": {},
   "outputs": [
    {
     "name": "stderr",
     "output_type": "stream",
     "text": [
      "                                                                                \r"
     ]
    }
   ],
   "source": [
    "frequent_camera_list = frequent_camera.keys().collect()\n",
    "camera2index = sc.broadcast({camera_code: index for index, camera_code in enumerate(frequent_camera_list)})\n",
    "index2camera = sc.broadcast({index: camera_code for index, camera_code in enumerate(frequent_camera_list)})"
   ]
  },
  {
   "cell_type": "markdown",
   "metadata": {},
   "source": [
    "### Assigning an index to each car"
   ]
  },
  {
   "cell_type": "code",
   "execution_count": 18,
   "metadata": {},
   "outputs": [
    {
     "name": "stderr",
     "output_type": "stream",
     "text": [
      "\r",
      "[Stage 18:=======================================>                (40 + 8) / 57]\r",
      "\r",
      "                                                                                \r"
     ]
    }
   ],
   "source": [
    "frequent_cars_list = frequent_cars.keys().collect()\n",
    "car2index = sc.broadcast({car: index for index, car in enumerate(frequent_cars_list)})\n",
    "index2car = sc.broadcast({index: car for index, car in enumerate(frequent_cars_list)})"
   ]
  },
  {
   "cell_type": "markdown",
   "metadata": {},
   "source": [
    "### Creating Utility Matrix"
   ]
  },
  {
   "cell_type": "code",
   "execution_count": 19,
   "metadata": {},
   "outputs": [],
   "source": [
    "def utility_count(row):\n",
    "    car = row[1]\n",
    "    camera = row[0]\n",
    "    car_index = car2index.value[car]\n",
    "    camera_index = camera2index.value[camera]\n",
    "    return ((car_index, camera_index), 1)\n",
    "\n",
    "car_camera_counts = data_rdd.filter(lambda x: x[0] in frequent_camera_list and x[1] in frequent_cars_list).map(utility_count)"
   ]
  },
  {
   "cell_type": "code",
   "execution_count": 20,
   "metadata": {},
   "outputs": [],
   "source": [
    "utility_matrix = car_camera_counts.reduceByKey(add)"
   ]
  },
  {
   "cell_type": "code",
   "execution_count": 23,
   "metadata": {},
   "outputs": [
    {
     "name": "stdout",
     "output_type": "stream",
     "text": [
      "shape of uitlity matrix:    (5385, 77)\n"
     ]
    }
   ],
   "source": [
    "print(f'shape of uitlity matrix:    {(len(frequent_cars_list), len(frequent_camera_list))}')"
   ]
  },
  {
   "cell_type": "code",
   "execution_count": 22,
   "metadata": {},
   "outputs": [
    {
     "name": "stderr",
     "output_type": "stream",
     "text": [
      "                                                                                \r"
     ]
    },
    {
     "data": {
      "text/plain": [
       "[((5276, 6), 31),\n",
       " ((5276, 55), 29),\n",
       " ((5276, 26), 21),\n",
       " ((5276, 14), 20),\n",
       " ((2203, 1), 15),\n",
       " ((2203, 55), 12),\n",
       " ((2203, 18), 9),\n",
       " ((5276, 1), 8),\n",
       " ((2203, 20), 5),\n",
       " ((433, 11), 3),\n",
       " ((732, 66), 3),\n",
       " ((4075, 66), 3),\n",
       " ((212, 75), 3),\n",
       " ((2850, 46), 3),\n",
       " ((4196, 7), 3),\n",
       " ((1878, 12), 3),\n",
       " ((4679, 11), 2),\n",
       " ((4989, 8), 2),\n",
       " ((794, 30), 2),\n",
       " ((4390, 75), 2)]"
      ]
     },
     "execution_count": 22,
     "metadata": {},
     "output_type": "execute_result"
    }
   ],
   "source": [
    "# now we print some values of utility matrix with ((row, column), value) format sorted value:\n",
    "utility_matrix.sortBy(lambda x: x[1], ascending=False).take(20)"
   ]
  },
  {
   "cell_type": "markdown",
   "metadata": {},
   "source": [
    "### Finding SVD of utility matrix with CUR algorithm"
   ]
  },
  {
   "cell_type": "markdown",
   "metadata": {},
   "source": [
    "#### Calculating norm of each column"
   ]
  },
  {
   "cell_type": "code",
   "execution_count": 29,
   "metadata": {},
   "outputs": [],
   "source": [
    "def norm_of_column(item):\n",
    "    return (item[0][1], item[1]**2)\n",
    "\n",
    "column_norm = utility_matrix.map(norm_of_column).reduceByKey(add)"
   ]
  },
  {
   "cell_type": "code",
   "execution_count": 30,
   "metadata": {},
   "outputs": [
    {
     "name": "stderr",
     "output_type": "stream",
     "text": [
      "                                                                                \r"
     ]
    }
   ],
   "source": [
    "column_norms = [0 for _ in range(len(frequent_camera_list))]\n",
    "for index, norm in column_norm.collect():\n",
    "    column_norms[index] = norm\n",
    "f_norm = sum(column_norms)\n",
    "column_probs = [x/f_norm for x in column_norms]"
   ]
  },
  {
   "cell_type": "code",
   "execution_count": 31,
   "metadata": {},
   "outputs": [
    {
     "name": "stdout",
     "output_type": "stream",
     "text": [
      "Frobenius norm by summing column norms:  10354\n"
     ]
    }
   ],
   "source": [
    "print(f'Frobenius norm by summing column norms:  {f_norm}')"
   ]
  },
  {
   "cell_type": "markdown",
   "metadata": {},
   "source": [
    "#### Calculating norm of each row"
   ]
  },
  {
   "cell_type": "code",
   "execution_count": 32,
   "metadata": {},
   "outputs": [],
   "source": [
    "def norm_of_row(item):\n",
    "    return (item[0][0], item[1]**2)\n",
    "\n",
    "row_norm = utility_matrix.map(norm_of_row).reduceByKey(add)"
   ]
  },
  {
   "cell_type": "code",
   "execution_count": 33,
   "metadata": {},
   "outputs": [
    {
     "name": "stderr",
     "output_type": "stream",
     "text": [
      "                                                                                \r"
     ]
    }
   ],
   "source": [
    "row_norms = [0 for _ in range(len(frequent_cars_list))]\n",
    "for index, norm in row_norm.collect():\n",
    "    row_norms[index] = norm\n",
    "f_norm = sum(row_norms)\n",
    "row_probs = [x/f_norm for x in row_norms]"
   ]
  },
  {
   "cell_type": "code",
   "execution_count": 35,
   "metadata": {},
   "outputs": [
    {
     "name": "stdout",
     "output_type": "stream",
     "text": [
      "Frobenius norm by summing row norms:  10354\n"
     ]
    }
   ],
   "source": [
    "print(f'Frobenius norm by summing row norms:  {f_norm}')"
   ]
  },
  {
   "cell_type": "markdown",
   "metadata": {},
   "source": [
    "### Selecting random rows"
   ]
  },
  {
   "cell_type": "code",
   "execution_count": 36,
   "metadata": {},
   "outputs": [],
   "source": [
    "r = 10"
   ]
  },
  {
   "cell_type": "code",
   "execution_count": 37,
   "metadata": {},
   "outputs": [],
   "source": [
    "# selecting each row and calculating the scaling factor for each selected row\n",
    "# the scaling factor is calculated as defined by the book\n",
    "random_row = random.choices(range(len(frequent_cars_list)), weights=row_probs, k=r)\n",
    "unique_row = [*set(random_row)]\n",
    "row_count = [random_row.count(row) for row in unique_row]\n",
    "row_factor = [np.sqrt(k/(r*row_probs[index])) for k, index in zip(row_count, unique_row)]"
   ]
  },
  {
   "cell_type": "markdown",
   "metadata": {},
   "source": [
    "### Selecting random columns"
   ]
  },
  {
   "cell_type": "code",
   "execution_count": 39,
   "metadata": {},
   "outputs": [],
   "source": [
    "# selecting each row and calculating the scaling factor for each selected row\n",
    "# the scaling factor is calculated as defined by the book\n",
    "random_column = random.choices(range(len(frequent_camera_list)), weights=column_probs, k=r)\n",
    "unique_column = [*set(random_column)]\n",
    "column_count = [random_column.count(column) for column in unique_column]\n",
    "column_factor = [np.sqrt(k/(r*row_probs[index])) for k, index in zip(column_count, unique_row)]"
   ]
  },
  {
   "cell_type": "markdown",
   "metadata": {},
   "source": [
    "### Forming W matrix"
   ]
  },
  {
   "cell_type": "code",
   "execution_count": 42,
   "metadata": {},
   "outputs": [
    {
     "name": "stdout",
     "output_type": "stream",
     "text": [
      "shape of W:  ((6, 7))\n"
     ]
    }
   ],
   "source": [
    "print(f'shape of W:  ({len(unique_row), len(unique_column)})')"
   ]
  },
  {
   "cell_type": "code",
   "execution_count": 55,
   "metadata": {},
   "outputs": [
    {
     "name": "stderr",
     "output_type": "stream",
     "text": [
      "                                                                                \r"
     ]
    },
    {
     "name": "stdout",
     "output_type": "stream",
     "text": [
      "the calculated W matrix\n",
      "[[ 0.  0.  0.  0.  2.  0.  0.]\n",
      " [ 0.  0.  0.  0.  0.  0.  0.]\n",
      " [ 0.  0.  0.  0.  0.  0.  0.]\n",
      " [ 0.  0.  0.  0.  0.  0.  0.]\n",
      " [ 8.  0.  0.  0.  0. 29.  0.]\n",
      " [ 0.  0.  0.  0.  0.  0.  0.]]\n"
     ]
    },
    {
     "name": "stderr",
     "output_type": "stream",
     "text": [
      "\r",
      "[Stage 224:===============================================>       (49 + 8) / 57]\r",
      "\r",
      "                                                                                \r"
     ]
    }
   ],
   "source": [
    "W_shape = (len(unique_row), len(unique_column))\n",
    "W = np.zeros(W_shape)\n",
    "\n",
    "for i, row in enumerate(unique_row):\n",
    "    for j, column in enumerate(unique_column):\n",
    "        query = utility_matrix.filter(lambda x: x[0] == (row, column)).collect()\n",
    "        if len(query):\n",
    "            W[i, j] = query[0][1]\n",
    "        else:\n",
    "            W[i, j] = 0\n",
    "print('the calculated W matrix')\n",
    "print(W)"
   ]
  },
  {
   "cell_type": "markdown",
   "metadata": {},
   "source": [
    "### Constructing U matrix"
   ]
  },
  {
   "cell_type": "code",
   "execution_count": 62,
   "metadata": {},
   "outputs": [],
   "source": [
    "X, S, YT = np.linalg.svd(W)"
   ]
  },
  {
   "cell_type": "code",
   "execution_count": 64,
   "metadata": {},
   "outputs": [],
   "source": [
    "Sigma = np.zeros(W.shape)\n",
    "for i, value in enumerate(S):\n",
    "    Sigma[i, i] = S[i]"
   ]
  },
  {
   "cell_type": "code",
   "execution_count": 77,
   "metadata": {},
   "outputs": [
    {
     "name": "stdout",
     "output_type": "stream",
     "text": [
      "The calculated U Matrix:\n",
      "[[0.         0.         0.         0.         0.00029384 0.        ]\n",
      " [0.         0.         0.         0.         0.         0.        ]\n",
      " [0.         0.         0.         0.         0.         0.        ]\n",
      " [0.         0.         0.         0.         0.         0.        ]\n",
      " [0.25       0.         0.         0.         0.         0.        ]\n",
      " [0.         0.         0.         0.         0.00106519 0.        ]\n",
      " [0.         0.         0.         0.         0.         0.        ]]\n"
     ]
    }
   ],
   "source": [
    "# Constructing the U matrix\n",
    "U = YT.T @ np.linalg.pinv(Sigma) **2 @ X.T\n",
    "\n",
    "print('The calculated U Matrix:')\n",
    "print(f'{U}')"
   ]
  }
 ],
 "metadata": {
  "kernelspec": {
   "display_name": "Python 3 (ipykernel)",
   "language": "python",
   "name": "python3"
  },
  "language_info": {
   "codemirror_mode": {
    "name": "ipython",
    "version": 3
   },
   "file_extension": ".py",
   "mimetype": "text/x-python",
   "name": "python",
   "nbconvert_exporter": "python",
   "pygments_lexer": "ipython3",
   "version": "3.11.0"
  }
 },
 "nbformat": 4,
 "nbformat_minor": 5
}
