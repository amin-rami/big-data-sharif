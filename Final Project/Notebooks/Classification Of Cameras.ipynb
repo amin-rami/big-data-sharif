{
 "cells": [
  {
   "cell_type": "code",
   "execution_count": 1,
   "metadata": {},
   "outputs": [],
   "source": [
    "import numpy as np\n",
    "import pandas as pd\n",
    "import matplotlib.pyplot as plt\n",
    "from pyspark import SparkContext, SparkConf\n",
    "from pyspark.sql import SparkSession\n",
    "import seaborn as sns\n",
    "from operator import add"
   ]
  },
  {
   "cell_type": "code",
   "execution_count": 2,
   "metadata": {},
   "outputs": [
    {
     "name": "stderr",
     "output_type": "stream",
     "text": [
      "Setting default log level to \"WARN\".\n",
      "To adjust logging level use sc.setLogLevel(newLevel). For SparkR, use setLogLevel(newLevel).\n"
     ]
    },
    {
     "name": "stdout",
     "output_type": "stream",
     "text": [
      "23/02/09 17:23:49 WARN NativeCodeLoader: Unable to load native-hadoop library for your platform... using builtin-java classes where applicable\n"
     ]
    }
   ],
   "source": [
    "spark = SparkSession \\\n",
    "    .builder \\\n",
    "    .appName(\"Spark_Processor\") \\\n",
    "    .master(\"local[*]\") \\\n",
    "    .getOrCreate()\n",
    "\n",
    "sc = spark.sparkContext"
   ]
  },
  {
   "cell_type": "code",
   "execution_count": 3,
   "metadata": {},
   "outputs": [
    {
     "name": "stdout",
     "output_type": "stream",
     "text": [
      "+-----------+---------+---------------+-------------+----------------+----------+-------------------+\n",
      "|DEVICE_CODE|SYSTEM_ID|ORIGINE_CAR_KEY|FINAL_CAR_KEY|CHECK_STATUS_KEY|COMPANY_ID|      PASS_DAY_TIME|\n",
      "+-----------+---------+---------------+-------------+----------------+----------+-------------------+\n",
      "|   22010047|      284|       63479234|     63479234|               6|       161|2021-12-22 00:48:53|\n",
      "|   22010043|      284|       63181203|     63181203|               6|       161|2021-12-22 00:36:47|\n",
      "|   22010079|      284|       63348486|     63348486|               6|       161|2021-12-22 01:14:32|\n",
      "|   22010048|      284|       63304612|     63304612|               6|       161|2021-12-22 00:57:17|\n",
      "|   22010112|      284|       63540629|     63540629|               6|       264|2021-12-22 01:23:27|\n",
      "|   22010043|      284|       35157216|     35157216|               6|       161|2021-12-22 01:39:21|\n",
      "|   22010040|      284|       36917809|     36917809|               6|       161|2021-12-22 00:35:09|\n",
      "|   22010053|      284|       37009120|     37009120|               6|       161|2021-12-22 00:45:38|\n",
      "|   22010059|      284|       52290416|     52290416|               6|       161|2021-12-22 01:17:43|\n",
      "|  100701156|      284|       52286008|     52286008|               6|       264|2021-12-22 00:37:23|\n",
      "+-----------+---------+---------------+-------------+----------------+----------+-------------------+\n",
      "only showing top 10 rows\n",
      "\n"
     ]
    }
   ],
   "source": [
    "data_df = spark.read.csv('MDA2022ProjectData.csv', header=True).sample(fraction=0.1)\n",
    "data_df = data_df.filter(data_df['ORIGINE_CAR_KEY'] == data_df['FINAL_CAR_KEY'])\n",
    "data_df.show(10)"
   ]
  },
  {
   "cell_type": "code",
   "execution_count": 4,
   "metadata": {},
   "outputs": [],
   "source": [
    "# convert data to rdd format\n",
    "raw_data_rdd = data_df.rdd.map(lambda x: (x['DEVICE_CODE'], x['ORIGINE_CAR_KEY'], x['PASS_DAY_TIME']))"
   ]
  },
  {
   "cell_type": "code",
   "execution_count": 5,
   "metadata": {},
   "outputs": [],
   "source": [
    "# take only the hour of PASS_DAY_TIME\n",
    "data_rdd = raw_data_rdd.map(lambda x: (x[0], x[1], x[2].split(' ')[1]))\n",
    "data_rdd = data_rdd.map(lambda x: (x[0], x[1], x[2].split(':')[0]))"
   ]
  },
  {
   "cell_type": "code",
   "execution_count": 6,
   "metadata": {},
   "outputs": [],
   "source": [
    "# count the number of cars that have passed each camera by hour\n",
    "def count(row):\n",
    "    return (row[0], int(row[2])), 1\n",
    "camera_hour_count = data_rdd.map(count).reduceByKey(add)"
   ]
  },
  {
   "cell_type": "code",
   "execution_count": 7,
   "metadata": {},
   "outputs": [
    {
     "name": "stderr",
     "output_type": "stream",
     "text": [
      "[Stage 2:========================================================>(56 + 1) / 57]\r"
     ]
    },
    {
     "name": "stdout",
     "output_type": "stream",
     "text": [
      "+-----------+---------+-----+\n",
      "|DEVICE_CODE|PASS_HOUR|COUNT|\n",
      "+-----------+---------+-----+\n",
      "|        155|        0|  715|\n",
      "|     205202|        0|  795|\n",
      "|     900239|        0|  752|\n",
      "|        120|        0|   38|\n",
      "|  100700943|        0|   46|\n",
      "|  100700804|        2|  607|\n",
      "|     900234|        2| 1127|\n",
      "|     900225|        3|  343|\n",
      "|     900242|        2|  378|\n",
      "|     631346|        1|  262|\n",
      "|     900144|        3|   14|\n",
      "|     900142|        3|  885|\n",
      "|     900150|        2|  215|\n",
      "|     900148|        1|   26|\n",
      "|   22010054|        5| 1769|\n",
      "|  100700836|        3|   64|\n",
      "|     900272|        5|  305|\n",
      "|     230106|        4|   63|\n",
      "|     900102|        4|  186|\n",
      "|     900232|        5|  129|\n",
      "+-----------+---------+-----+\n",
      "only showing top 20 rows\n",
      "\n"
     ]
    },
    {
     "name": "stderr",
     "output_type": "stream",
     "text": [
      "\r",
      "                                                                                \r"
     ]
    }
   ],
   "source": [
    "# show the result\n",
    "camera_hour_count.map(lambda x: (*x[0], x[1])).toDF(schema=['DEVICE_CODE', 'PASS_HOUR', 'COUNT']).show(20)"
   ]
  },
  {
   "cell_type": "code",
   "execution_count": 8,
   "metadata": {},
   "outputs": [],
   "source": [
    "# now we create an rdd which contaons a feature vector for each camera\n",
    "# the features are hours in a day and their value is the number of detected cars\n",
    "def create_feature_vec(row):\n",
    "    device_code = row[0]\n",
    "    feature_vec = np.zeros((24, ))\n",
    "    for record in row[1]:\n",
    "        index = int(record[0][1])\n",
    "        value = record[1]\n",
    "        feature_vec[index] = value\n",
    "    feature_vec = Vectors.dense(feature_vec)\n",
    "    return (device_code, feature_vec)\n",
    "\n",
    "camera_feature_vec = camera_hour_count.groupBy(lambda x: x[0][0]).mapValues(list).map(create_feature_vec)"
   ]
  },
  {
   "cell_type": "code",
   "execution_count": 9,
   "metadata": {},
   "outputs": [
    {
     "name": "stderr",
     "output_type": "stream",
     "text": [
      "                                                                                \r"
     ]
    },
    {
     "name": "stdout",
     "output_type": "stream",
     "text": [
      "+-----------+--------------------+\n",
      "|DEVICE_CODE|         FEATURE_VEC|\n",
      "+-----------+--------------------+\n",
      "|   22010054|[1302.0,758.0,416...|\n",
      "|     107301|[435.0,307.0,170....|\n",
      "|     200301|[397.0,212.0,96.0...|\n",
      "|   22010135|[167.0,110.0,87.0...|\n",
      "|    1001031|[8.0,6.0,3.0,3.0,...|\n",
      "|     210110|[6.0,4.0,6.0,7.0,...|\n",
      "|   22010139|[270.0,324.0,249....|\n",
      "|     710101|[2.0,1.0,1.0,2.0,...|\n",
      "|     631929|[5.0,1.0,1.0,4.0,...|\n",
      "|     900212|[6844.0,3753.0,19...|\n",
      "|    1001051|[2.0,2.0,1.0,3.0,...|\n",
      "|     207701|[6.0,1.0,3.0,1.0,...|\n",
      "|        128|[0.0,0.0,0.0,0.0,...|\n",
      "|   22009802|[1.0,3.0,4.0,2.0,...|\n",
      "|        103|[160.0,92.0,34.0,...|\n",
      "|     900126|[267.0,145.0,87.0...|\n",
      "|     203902|[1675.0,892.0,474...|\n",
      "|     631610|[9.0,3.0,3.0,0.0,...|\n",
      "|     631891|[0.0,0.0,0.0,0.0,...|\n",
      "|   22009834|[33.0,6.0,10.0,6....|\n",
      "+-----------+--------------------+\n",
      "only showing top 20 rows\n",
      "\n"
     ]
    }
   ],
   "source": [
    "camera_feature_vec.toDF(schema=['DEVICE_CODE', 'FEATURE_VEC']).show(20)"
   ]
  },
  {
   "cell_type": "code",
   "execution_count": 10,
   "metadata": {},
   "outputs": [
    {
     "name": "stderr",
     "output_type": "stream",
     "text": [
      "                                                                                \r"
     ]
    },
    {
     "name": "stdout",
     "output_type": "stream",
     "text": [
      "23/02/09 17:25:24 WARN LAPACK: Failed to load implementation from: com.github.fommil.netlib.NativeSystemLAPACK\n",
      "23/02/09 17:25:24 WARN LAPACK: Failed to load implementation from: com.github.fommil.netlib.NativeRefLAPACK\n"
     ]
    }
   ],
   "source": [
    "# perform pca on the data\n",
    "camera_feature_df = spark.createDataFrame(camera_feature_vec, ['DEVICE_CODE', 'feature_vec'])\n",
    "dim = 2   # good for visualization\n",
    "pca = PCA(k=dim, inputCol='feature_vec')\n",
    "pca.setOutputCol('reduced_feature_vec')\n",
    "model = pca.fit(camera_feature_df)"
   ]
  },
  {
   "cell_type": "code",
   "execution_count": 11,
   "metadata": {},
   "outputs": [
    {
     "name": "stdout",
     "output_type": "stream",
     "text": [
      "+-----------+--------------------+--------------------+\n",
      "|DEVICE_CODE|         feature_vec| reduced_feature_vec|\n",
      "+-----------+--------------------+--------------------+\n",
      "|   22010054|[1302.0,758.0,416...|[-13060.650312009...|\n",
      "|     107301|[435.0,307.0,170....|[-2100.3610658532...|\n",
      "|     200301|[397.0,212.0,96.0...|[-4585.2098928953...|\n",
      "|   22010135|[167.0,110.0,87.0...|[-1286.9896280502...|\n",
      "|    1001031|[8.0,6.0,3.0,3.0,...|[-29.845326107283...|\n",
      "|     210110|[6.0,4.0,6.0,7.0,...|[-3.4161668013355...|\n",
      "|   22010139|[270.0,324.0,249....|[-1879.5721151562...|\n",
      "|     710101|[2.0,1.0,1.0,2.0,...|[-6.8623194327505...|\n",
      "|     631929|[5.0,1.0,1.0,4.0,...|[-34.060699659742...|\n",
      "|     900212|[6844.0,3753.0,19...|[-57092.806501184...|\n",
      "|    1001051|[2.0,2.0,1.0,3.0,...|[-22.272090893339...|\n",
      "|     207701|[6.0,1.0,3.0,1.0,...|[-54.222304040916...|\n",
      "|        128|[0.0,0.0,0.0,0.0,...|[-2716.5988239707...|\n",
      "|   22009802|[1.0,3.0,4.0,2.0,...|[-10.366629946907...|\n",
      "|        103|[160.0,92.0,34.0,...|[-1756.8509591644...|\n",
      "|     900126|[267.0,145.0,87.0...|[-6938.1364774889...|\n",
      "|     203902|[1675.0,892.0,474...|[-14341.437728655...|\n",
      "|     631610|[9.0,3.0,3.0,0.0,...|[-1581.5495743922...|\n",
      "|     631891|[0.0,0.0,0.0,0.0,...|[-18.868896518997...|\n",
      "|   22009834|[33.0,6.0,10.0,6....|[-1749.6928249832...|\n",
      "+-----------+--------------------+--------------------+\n",
      "only showing top 20 rows\n",
      "\n"
     ]
    }
   ],
   "source": [
    "# show the pca results\n",
    "camera_pca = model.transform(camera_feature_df)\n",
    "camera_pca.show(20)"
   ]
  },
  {
   "cell_type": "code",
   "execution_count": 12,
   "metadata": {},
   "outputs": [
    {
     "name": "stderr",
     "output_type": "stream",
     "text": [
      "                                                                                \r"
     ]
    }
   ],
   "source": [
    "# now we apply k-means to data in order to classify cameras into different groups(clusters)\n",
    "k = 5\n",
    "kmeans = KMeans(k=k, featuresCol='reduced_feature_vec', predictionCol='cluster')\n",
    "model = kmeans.fit(camera_pca)"
   ]
  },
  {
   "cell_type": "code",
   "execution_count": 13,
   "metadata": {},
   "outputs": [
    {
     "name": "stderr",
     "output_type": "stream",
     "text": [
      "                                                                                \r"
     ]
    }
   ],
   "source": [
    "sample_size = 5000\n",
    "samples = camera_pca.rdd.take(sample_size)"
   ]
  },
  {
   "cell_type": "code",
   "execution_count": 14,
   "metadata": {},
   "outputs": [],
   "source": [
    "samples_coordinates_list = [x.reduced_feature_vec.toArray().reshape(1, -1) for x in samples]\n",
    "samples_coordinates = np.concatenate(samples_coordinates_list, axis=0)\n",
    "samples_clusters = np.array([model.predict(x.reduced_feature_vec) for x in samples])"
   ]
  },
  {
   "cell_type": "code",
   "execution_count": 15,
   "metadata": {},
   "outputs": [
    {
     "data": {
      "image/png": "[encoded data removed]",
      "text/plain": [
       "<Figure size 800x600 with 1 Axes>"
      ]
     },
     "metadata": {},
     "output_type": "display_data"
    }
   ],
   "source": [
    "# Visualize the data\n",
    "fig = plt.figure(figsize=(8, 6))\n",
    "ax = fig.add_subplot(1, 1, 1)\n",
    "\n",
    "for i in range(k):\n",
    "    indices = samples_clusters == i\n",
    "    ax.scatter(\n",
    "        samples_coordinates[indices, 0],\n",
    "        samples_coordinates[indices, 1],\n",
    "        label=f'cluster {i}',\n",
    "        edgecolor='black',\n",
    "        s=50\n",
    "    )\n",
    "\n",
    "    \n",
    "plt.xlabel('Latent variable 1', fontsize=11)\n",
    "plt.ylabel('Lanent variable 2', fontsize=11)\n",
    "plt.legend()\n",
    "plt.show()"
   ]
  }
 ],
 "metadata": {
  "kernelspec": {
   "display_name": "Python 3 (ipykernel)",
   "language": "python",
   "name": "python3"
  },
  "language_info": {
   "codemirror_mode": {
    "name": "ipython",
    "version": 3
   },
   "file_extension": ".py",
   "mimetype": "text/x-python",
   "name": "python",
   "nbconvert_exporter": "python",
   "pygments_lexer": "ipython3",
   "version": "3.11.0"
  }
 },
 "nbformat": 4,
 "nbformat_minor": 5
}
