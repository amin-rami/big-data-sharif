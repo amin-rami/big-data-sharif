{
 "cells": [
  {
   "cell_type": "markdown",
   "metadata": {
    "id": "5wIe_NNFTYs_"
   },
   "source": [
    "# Data Mining Course Spark Exercise\n",
    "## Sharif University of Technology\n",
    "\n",
    "In this notebook we are going to analyze farsi wikipedia. \n",
    "Outline of the exercise:\n",
    "* Dataset preparation\n",
    "* Preprocessing (25 Points) \n",
    "* Exploration (20 Points) \n",
    "* TF-IDF + Search (55 Points)\n",
    "\n",
    "You should replace the `TODO` parts with your implementation. Remeber that each `TODO` may take multiple lines and you shouldn't limit your self to one-line codes.\n",
    "\n",
    "## Prerequisites\n",
    "You should be faimilar with [tf-idf](https://en.wikipedia.org/wiki/Tf%E2%80%93idf). In this notebook you should use the following formula for tf-idf:\n",
    "$$f_{t,d}/len(d) \\times log(1 + \\frac{N}{n_t})$$\n",
    "\n",
    "## Warning: RDD api only\n",
    "You **can not** use Dataframe, Dataset, mllib, ml, ... apis of spark in this exercise. You should only use the [RDD api](http://spark.apache.org/docs/2.1.0/api/python/pyspark.html#pyspark.RDD)."
   ]
  },
  {
   "cell_type": "markdown",
   "metadata": {
    "id": "mPC8u67dTYtA"
   },
   "source": [
    "# Section 0: Please enter your name below\n",
    "# Name: Mohammad Amin Rami\n",
    "# Student Number: 98101588"
   ]
  },
  {
   "cell_type": "markdown",
   "metadata": {
    "id": "fjLWtOdITYtB"
   },
   "source": [
    "# Section 1: Dataset preparation\n",
    "\n",
    "This section of notebook contains only shell commands. You don't need to completely understand each command or change anything.\n",
    "\n",
    "Please run all the paragraphs sequentially."
   ]
  },
  {
   "cell_type": "code",
   "execution_count": 1,
   "metadata": {
    "colab": {
     "base_uri": "https://localhost:8080/"
    },
    "id": "Ezi5dS6YTYtC",
    "outputId": "1a1c063f-173b-42aa-9ba3-d89d428467d5"
   },
   "outputs": [],
   "source": [
    " #! sudo apt-get -y install wget git"
   ]
  },
  {
   "cell_type": "markdown",
   "metadata": {
    "id": "eBbtThFKTYtD"
   },
   "source": [
    "### Download the dump"
   ]
  },
  {
   "cell_type": "code",
   "execution_count": 2,
   "metadata": {
    "colab": {
     "base_uri": "https://localhost:8080/"
    },
    "id": "_W08JzklTYtE",
    "outputId": "873fcfaf-e6c4-4596-d38a-ac837dde4bdd"
   },
   "outputs": [],
   "source": [
    "#! wget --no-check-certificate -P . https://dumps.wikimedia.org/fawiki/latest/fawiki-latest-pages-articles-multistream.xml.bz2"
   ]
  },
  {
   "cell_type": "markdown",
   "metadata": {
    "id": "hP6Q0z6uTYtE"
   },
   "source": [
    "## Extract the dump (this may take a few minutes)"
   ]
  },
  {
   "cell_type": "code",
   "execution_count": 3,
   "metadata": {
    "id": "ZUlUk28VTYtF"
   },
   "outputs": [],
   "source": [
    "#! bzip2 -d fawiki-latest-pages-articles-multistream.xml.bz2"
   ]
  },
  {
   "cell_type": "markdown",
   "metadata": {
    "id": "u4DCV5w5TYtF"
   },
   "source": [
    "## Clone git project for converting wikipedia xml dump to json"
   ]
  },
  {
   "cell_type": "code",
   "execution_count": 4,
   "metadata": {
    "id": "2fl4Fm5dTYtF"
   },
   "outputs": [],
   "source": [
    "#! pip install wikiextractor"
   ]
  },
  {
   "cell_type": "markdown",
   "metadata": {
    "id": "l0jlwlM9TYtG"
   },
   "source": [
    "## Run the script to convert xml to json (this might take around 30 minutes)"
   ]
  },
  {
   "cell_type": "code",
   "execution_count": 5,
   "metadata": {
    "id": "_PspJR_ATYtG"
   },
   "outputs": [],
   "source": [
    "#! python3 -m wikiextractor.WikiExtractor --json fawiki-latest-pages-articles-multistream.xml"
   ]
  },
  {
   "cell_type": "markdown",
   "metadata": {
    "id": "_NkdMpq4TYtH"
   },
   "source": [
    "## Ensure output files exist"
   ]
  },
  {
   "cell_type": "code",
   "execution_count": 6,
   "metadata": {
    "id": "ONN2PqvlTYtH"
   },
   "outputs": [],
   "source": [
    "#! ls text/*/*"
   ]
  },
  {
   "cell_type": "markdown",
   "metadata": {
    "id": "PCPaEaL7TYtH"
   },
   "source": [
    "## Install Pypark & Initialization\n",
    "Uncomment this section if you use google colab or local pc"
   ]
  },
  {
   "cell_type": "code",
   "execution_count": 7,
   "metadata": {
    "id": "isNdHD1HTYtH"
   },
   "outputs": [],
   "source": [
    "#! pip install pyspark"
   ]
  },
  {
   "cell_type": "code",
   "execution_count": 8,
   "metadata": {
    "id": "2WQVNsWITYtI"
   },
   "outputs": [
    {
     "name": "stdout",
     "output_type": "stream",
     "text": [
      "22/12/05 03:06:10 WARN Utils: Your hostname, MohammadAmin-VivoBook resolves to a loopback address: 127.0.1.1; using 192.168.122.1 instead (on interface virbr0)\n",
      "22/12/05 03:06:10 WARN Utils: Set SPARK_LOCAL_IP if you need to bind to another address\n"
     ]
    },
    {
     "name": "stderr",
     "output_type": "stream",
     "text": [
      "Setting default log level to \"WARN\".\n",
      "To adjust logging level use sc.setLogLevel(newLevel). For SparkR, use setLogLevel(newLevel).\n"
     ]
    },
    {
     "name": "stdout",
     "output_type": "stream",
     "text": [
      "22/12/05 03:06:10 WARN NativeCodeLoader: Unable to load native-hadoop library for your platform... using builtin-java classes where applicable\n"
     ]
    }
   ],
   "source": [
    "from pyspark.sql import SparkSession\n",
    "import re\n",
    "from itertools import chain\n",
    "from operator import add\n",
    "import matplotlib.pyplot as plt\n",
    "import math\n",
    "from functools import partial\n",
    "\n",
    "spark = SparkSession \\\n",
    "    .builder \\\n",
    "    .appName(\"MDA_2021\") \\\n",
    "    .master(\"local[*]\") \\\n",
    "    .getOrCreate()\n",
    "\n",
    "sc = spark.sparkContext"
   ]
  },
  {
   "cell_type": "markdown",
   "metadata": {
    "id": "ywInWa6mTYtI"
   },
   "source": [
    "## Reading the data"
   ]
  },
  {
   "cell_type": "code",
   "execution_count": 9,
   "metadata": {
    "id": "w-4vcBCBTYtI"
   },
   "outputs": [
    {
     "name": "stderr",
     "output_type": "stream",
     "text": [
      "\r",
      "[Stage 0:>                                                          (0 + 1) / 1]\r",
      "\r",
      "                                                                                \r"
     ]
    },
    {
     "data": {
      "text/plain": [
       "['{\"id\": \"2\", \"revid\": \"23528\", \"url\": \"https://fa.wikipedia.org/wiki?curid=2\", \"title\": \"\\\\u0635\\\\u0641\\\\u062d\\\\u0647\\\\u0654 \\\\u0627\\\\u0635\\\\u0644\\\\u06cc\", \"text\": \"&lt;templatestyles src=\\\\\"\\\\u0635\\\\u0641\\\\u062d\\\\u0647 \\\\u0627\\\\u0635\\\\u0644\\\\u06cc/styles.css\\\\\"/&gt;\\\\n \\\\n \\\\n \\\\n \\\\n \\\\n \\\\n \\\\n \\\\n \\\\n \\\\n \\\\n \\\\n\\\\u0627\\\\u0645\\\\u0631\\\\u0648\\\\u0632: \\\\u060c \\\\u0645\\\\u06cc\\\\u0644\\\\u0627\\\\u062f\\\\u06cc \\\\u0628\\\\u0631\\\\u0627\\\\u0628\\\\u0631 \\\\u0647\\\\u062c\\\\u0631\\\\u06cc \\\\u062e\\\\u0648\\\\u0631\\\\u0634\\\\u06cc\\\\u062f\\\\u06cc \\\\u0648 (UTC)\\\\n \\\\n \\\\n \\\\n \\\\n \\' \\\\u2013 \\'\\\\n \\\\n \\\\n \\\\n \\\\n \\\\n \\\\n __NOEDITSECTION__\"}']"
      ]
     },
     "execution_count": 9,
     "metadata": {},
     "output_type": "execute_result"
    }
   ],
   "source": [
    "articles_rdd = sc.textFile(\"text/*/*\")\n",
    "articles_rdd.take(1)"
   ]
  },
  {
   "cell_type": "markdown",
   "metadata": {
    "id": "8jcfYLmOTYtJ"
   },
   "source": [
    "# Section 2: Preprocessing (25 Points)\n",
    "\n",
    "In this section we will remove useless part (for example /n and /u200c and ...) also find and remove stop words and remove the words with a low count in the corpus"
   ]
  },
  {
   "cell_type": "code",
   "execution_count": 10,
   "metadata": {
    "id": "be6tvT5RTYtJ"
   },
   "outputs": [
    {
     "name": "stderr",
     "output_type": "stream",
     "text": [
      "                                                                                \r"
     ]
    },
    {
     "data": {
      "text/plain": [
       "[('در', 5082982),\n",
       " ('و', 4559153),\n",
       " ('به', 3422348),\n",
       " ('از', 2946374),\n",
       " ('است', 2647560),\n",
       " ('که', 2219670),\n",
       " ('می', 2066123),\n",
       " ('این', 1572917),\n",
       " ('را', 1428410),\n",
       " ('های', 1361211),\n",
       " ('با', 1163777),\n",
       " ('یک', 987426),\n",
       " ('آن', 871677),\n",
       " ('شده', 865550),\n",
       " ('سال', 832346),\n",
       " ('ها', 717010),\n",
       " ('شد', 690994),\n",
       " ('بود', 622928),\n",
       " ('برای', 620724),\n",
       " ('کرد', 539514),\n",
       " ('او', 515650),\n",
       " ('شود', 486181),\n",
       " ('دارد', 432803),\n",
       " ('ای', 408867),\n",
       " ('خود', 368869),\n",
       " ('بر', 365037),\n",
       " ('تا', 360684),\n",
       " ('یا', 346544),\n",
       " ('ایران', 339031),\n",
       " ('کند', 325825),\n",
       " ('واقع', 319517),\n",
       " ('وی', 297365),\n",
       " ('عنوان', 292540),\n",
       " ('نام', 283236),\n",
       " ('فوتبال', 276534),\n",
       " ('جمعیت', 275758),\n",
       " ('قرار', 273031),\n",
       " ('نیز', 260348),\n",
       " ('باشد', 250825),\n",
       " ('کرده', 239593),\n",
       " ('نفر', 237581),\n",
       " ('دو', 233996),\n",
       " ('پس', 230377),\n",
       " ('فیلم', 230280),\n",
       " ('بازی', 215451),\n",
       " ('باشگاه', 212172),\n",
       " ('استفاده', 207047),\n",
       " ('بوده', 206658),\n",
       " ('یکی', 206148),\n",
       " ('توسط', 204804),\n",
       " ('شهر', 203862),\n",
       " ('اهل', 200696),\n",
       " ('شهرستان', 190637),\n",
       " ('بخش', 187500),\n",
       " ('هم', 185529),\n",
       " ('همچنین', 182201),\n",
       " ('بین', 177395),\n",
       " ('دیگر', 168594),\n",
       " ('توان', 167472),\n",
       " ('استان', 164609),\n",
       " ('اما', 162848),\n",
       " ('آمریکا', 161856),\n",
       " ('هایی', 160549),\n",
       " ('اند', 160027),\n",
       " ('ملی', 155655),\n",
       " ('کنند', 155037),\n",
       " ('؛', 154182),\n",
       " ('کشور', 151469),\n",
       " ('اشاره', 150607),\n",
       " ('شرکت', 148534),\n",
       " ('مورد', 144985),\n",
       " ('هر', 144638),\n",
       " ('کار', 144163),\n",
       " ('وجود', 139272),\n",
       " ('هستند', 135373),\n",
       " ('میلادی', 134998),\n",
       " ('ایالات', 134107),\n",
       " ('صورت', 132962),\n",
       " ('متحده', 132702),\n",
       " ('زادهٔ', 129371),\n",
       " ('داد', 127436),\n",
       " ('داشته', 127117),\n",
       " ('تیم', 124331),\n",
       " ('تاریخ', 124175),\n",
       " ('داشت', 124139),\n",
       " ('زمان', 123868),\n",
       " ('روی', 122195),\n",
       " ('دست', 120753),\n",
       " ('زبان', 118814),\n",
       " ('زیر', 116797),\n",
       " ('داده', 114744),\n",
       " ('دهد', 114547),\n",
       " ('شوند', 112774),\n",
       " ('سطح', 110767),\n",
       " ('روستا', 109998),\n",
       " ('کردند', 109962),\n",
       " ('گروه', 106710),\n",
       " ('زندگی', 104886),\n",
       " ('دانشگاه', 103496),\n",
       " ('پیش', 102915)]"
      ]
     },
     "execution_count": 10,
     "metadata": {},
     "output_type": "execute_result"
    }
   ],
   "source": [
    "import json\n",
    "\n",
    "def clean_page(page):\n",
    "    \n",
    "    replacements = {i: ' ' for i in chain(range(33, 64), range(123, 128), range(0, 32), range(91, 97))}\n",
    "    replacements.update({ord('\\n'): ' ',  ord('\\u200c'): ' ', ord('\\u200e'): ' ',\n",
    "        ord('\\u200d'): ' ', ord('–'): ' ', ord('_'): ' ', ord('،'): ' ', ord('.'): ' ',\n",
    "        ord('•'): ' ',\n",
    "    })\n",
    "    \n",
    "    page['text'] = re.sub(' {2,}', ' ', page['text'].translate(replacements)).strip()\n",
    "    page['title'] = re.sub(' {2,}', ' ', page['title'].translate(replacements)).strip()\n",
    "    return page\n",
    "\n",
    "def extract_word(page):\n",
    "    text = page['title'] + ' ' + page['text']\n",
    "    return text.strip().split(' ')\n",
    "\n",
    "articles_rdd = articles_rdd.map(json.loads).filter(lambda x: len(x['text']) > 0 )\n",
    "cleansed_articles_rdd = articles_rdd.map(clean_page)\n",
    "words_rdd = cleansed_articles_rdd.flatMap(extract_word)\n",
    "words_count_rdd = words_rdd.map(lambda x:(x, 1)).reduceByKey(add)\n",
    "top_100 = words_count_rdd.sortBy(lambda x: x[1], ascending=False).take(100)\n",
    "top_100"
   ]
  },
  {
   "cell_type": "code",
   "execution_count": 11,
   "metadata": {},
   "outputs": [
    {
     "name": "stderr",
     "output_type": "stream",
     "text": [
      "                                                                                \r"
     ]
    }
   ],
   "source": [
    "stopwords = [\n",
    " 'در',\n",
    " 'نمی',\n",
    " 'در',\n",
    " 'و',\n",
    " 'به',\n",
    " 'از',\n",
    " 'است',\n",
    " 'که',\n",
    " 'می',\n",
    " 'این',\n",
    " 'را',\n",
    " 'های',\n",
    " 'با',\n",
    " 'یک',\n",
    " 'آن',\n",
    " 'شده',\n",
    " 'ها',\n",
    " 'شد',\n",
    " 'بود',\n",
    " 'برای',\n",
    " 'کرد',\n",
    " 'او',\n",
    " 'شود',\n",
    " 'ای',\n",
    " 'دارد',\n",
    " 'بر',\n",
    " 'تا',\n",
    " 'یا',\n",
    " 'کند',\n",
    " 'وی',\n",
    " 'نیز',\n",
    " 'باشد',\n",
    " 'کرده',\n",
    " 'دو',\n",
    " 'پس',\n",
    " 'بوده',\n",
    " 'یکی',\n",
    " 'هم',\n",
    " 'همچنین',\n",
    " 'بین',\n",
    " 'دیگر',\n",
    " 'اس',\n",
    " 'اما',\n",
    " 'هایی',\n",
    " 'اند',\n",
    " '؛',\n",
    " 'کنند',\n",
    " 'هر',\n",
    " 'هستند',\n",
    " 'داد',\n",
    " 'داشته',\n",
    " 'داشت',\n",
    " 'داده',\n",
    " 'دهد',\n",
    " 'شوند',\n",
    " 'کردند',\n",
    " '',\n",
    "]\n",
    "\n",
    "def replace_stop_words(page):\n",
    "    for stopword in stopwords:\n",
    "        page['title'] = re.sub(f' {stopword} ', ' ', page['title'])\n",
    "        page['title'] = re.sub(fr' {stopword}$', ' ', page['title'])\n",
    "        page['text'] = re.sub(f' {stopword} ', ' ', page['text'])\n",
    "        page['text'] = re.sub(fr' {stopword}$', ' ', page['text'])\n",
    "    return page\n",
    "\n",
    "articles_without_stopwords_rdd = cleansed_articles_rdd.map(replace_stop_words)\n",
    "\n",
    "MIN_COUNT = 20\n",
    "uncommon_words = words_count_rdd.filter(lambda x: x[1] < MIN_COUNT).sortBy(lambda x: x[1]).take(100)\n",
    "\n",
    "def replace_uncommon(page):\n",
    "    for word in uncommon_words:\n",
    "        page['title'] = re.sub(f' {word} ', ' ', page['title'])\n",
    "        page['title'] = re.sub(fr' {word}$', ' ', page['title'])\n",
    "        page['text'] = re.sub(f' {word} ', ' ', page['text'])\n",
    "        page['text'] = re.sub(fr' {word}$', ' ', page['text'])\n",
    "    return page\n",
    "\n",
    "articles_cleaned_rdd = articles_without_stopwords_rdd.map(replace_uncommon)"
   ]
  },
  {
   "cell_type": "markdown",
   "metadata": {
    "id": "79dgk7QHTYtK"
   },
   "source": [
    "# Section 3: Exploration (20 Points)\n",
    "Please answer the following questions regarding the dataset:\n",
    "* How many unique 3-Letter words remain after the cleaning procedure?\n",
    "* What are the top 20 most common English trigrams in the corpus?\n",
    "* Plot a distribution from document lengths using appropriate bin sizes with 100 bins\n",
    "* What are the titles and urls of the 5 longest articles? \n",
    "* How many and what percentage of articles contain these words? [History, Politics, Medicine, Law, Economics, Engineering]"
   ]
  },
  {
   "cell_type": "code",
   "execution_count": 12,
   "metadata": {},
   "outputs": [
    {
     "name": "stderr",
     "output_type": "stream",
     "text": [
      "[Stage 21:===================================================>(3452 + 1) / 3453]\r"
     ]
    },
    {
     "name": "stdout",
     "output_type": "stream",
     "text": [
      "number of three letter words: 41579\n"
     ]
    },
    {
     "name": "stderr",
     "output_type": "stream",
     "text": [
      "\r",
      "                                                                                \r"
     ]
    }
   ],
   "source": [
    "cleaned_words_rdd =  words_count_rdd.filter(lambda x: (x[0] not in stopwords) and (x[0] not in uncommon_words))\n",
    "three_letter_words = cleaned_words_rdd.filter(lambda x: len(x[0]) == 3).sortBy(lambda x:x[1], ascending=False)\n",
    "three_letter_words_count = three_letter_words.count()\n",
    "print(f'number of three letter words: {three_letter_words_count}')"
   ]
  },
  {
   "cell_type": "code",
   "execution_count": 13,
   "metadata": {},
   "outputs": [
    {
     "name": "stderr",
     "output_type": "stream",
     "text": [
      "                                                                                \r"
     ]
    },
    {
     "name": "stdout",
     "output_type": "stream",
     "text": [
      "most common three letter English words\n"
     ]
    },
    {
     "name": "stderr",
     "output_type": "stream",
     "text": [
      "                                                                                \r"
     ]
    },
    {
     "data": {
      "text/plain": [
       "[('The', 10114),\n",
       " ('the', 9211),\n",
       " ('amp', 8271),\n",
       " ('and', 7048),\n",
       " ('org', 6816),\n",
       " ('php', 3758),\n",
       " ('mol', 3656),\n",
       " ('www', 3646),\n",
       " ('com', 3476),\n",
       " ('for', 2906),\n",
       " ('DNA', 2186),\n",
       " ('web', 1751),\n",
       " ('ref', 1637),\n",
       " ('int', 1615),\n",
       " ('New', 1537),\n",
       " ('end', 1533),\n",
       " ('bdi', 1222),\n",
       " ('III', 1158),\n",
       " ('San', 1152),\n",
       " ('new', 865)]"
      ]
     },
     "execution_count": 13,
     "metadata": {},
     "output_type": "execute_result"
    }
   ],
   "source": [
    "def word_is_english(example):\n",
    "    return bool(re.compile(r\"^[a-zA-Z]*$\").match(example[0]))\n",
    "\n",
    "top_english_words = three_letter_words.filter(word_is_english).sortBy(lambda x: x[1], ascending=False)\n",
    "print('most common three letter English words')\n",
    "top_english_words.take(20)"
   ]
  },
  {
   "cell_type": "code",
   "execution_count": 14,
   "metadata": {},
   "outputs": [],
   "source": [
    "article_lengh_rdd = articles_cleaned_rdd.map(lambda x: (x, len(x['text'])))"
   ]
  },
  {
   "cell_type": "code",
   "execution_count": 15,
   "metadata": {},
   "outputs": [
    {
     "name": "stderr",
     "output_type": "stream",
     "text": [
      "                                                                                \r"
     ]
    },
    {
     "data": {
      "text/plain": [
       "Text(0.5, 0, 'length')"
      ]
     },
     "execution_count": 15,
     "metadata": {},
     "output_type": "execute_result"
    },
    {
     "data": {
      "image/png": "[encoded data removed]",
      "text/plain": [
       "<Figure size 576x288 with 1 Axes>"
      ]
     },
     "metadata": {
      "needs_background": "light"
     },
     "output_type": "display_data"
    }
   ],
   "source": [
    "fig = plt.figure(figsize=(8, 4))\n",
    "ax = fig.add_subplot(1, 1, 1)\n",
    "ax.hist(article_lengh_rdd.values().collect(), bins=100, range=(0, 1000), edgecolor='black')\n",
    "ax.set_xlabel('length')"
   ]
  },
  {
   "cell_type": "code",
   "execution_count": 16,
   "metadata": {},
   "outputs": [
    {
     "name": "stderr",
     "output_type": "stream",
     "text": [
      "[Stage 39:===================================================>(3452 + 1) / 3453]\r"
     ]
    },
    {
     "name": "stdout",
     "output_type": "stream",
     "text": [
      "title: نادرشاه\n",
      "url: https://fa.wikipedia.org/wiki?curid=10787\n",
      "length: 101772\n",
      "==============================\n",
      "title: ایران\n",
      "url: https://fa.wikipedia.org/wiki?curid=163930\n",
      "length: 89892\n",
      "==============================\n",
      "title: نبرد اسمولنسک\n",
      "url: https://fa.wikipedia.org/wiki?curid=2322946\n",
      "length: 88049\n",
      "==============================\n",
      "title: جمهوری وایمار\n",
      "url: https://fa.wikipedia.org/wiki?curid=26519\n",
      "length: 84469\n",
      "==============================\n",
      "title: نبرد مسکو\n",
      "url: https://fa.wikipedia.org/wiki?curid=1501875\n",
      "length: 84277\n",
      "==============================\n"
     ]
    },
    {
     "name": "stderr",
     "output_type": "stream",
     "text": [
      "\r",
      "                                                                                \r"
     ]
    }
   ],
   "source": [
    "long_articles = article_lengh_rdd.sortBy(lambda x: x[1], ascending=False)\n",
    "for article in long_articles.take(5):\n",
    "    print(f\"title: {article[0]['title']}\")\n",
    "    print(f\"url: {article[0]['url']}\")\n",
    "    print(f\"length: {article[1]}\")\n",
    "    print('='*30)"
   ]
  },
  {
   "cell_type": "code",
   "execution_count": 17,
   "metadata": {},
   "outputs": [
    {
     "name": "stderr",
     "output_type": "stream",
     "text": [
      "[Stage 47:===================================================>(3446 + 7) / 3453]\r"
     ]
    },
    {
     "name": "stdout",
     "output_type": "stream",
     "text": [
      "سیاست:      25071      2.68%\n",
      "تاریخ:      99011      10.58%\n",
      "قانون:      19969      2.13%\n",
      "اقتصاد:      16900      1.81%\n",
      "مهندسی:      7737      0.83%\n",
      "پزشکی:      11118      1.19%\n"
     ]
    },
    {
     "name": "stderr",
     "output_type": "stream",
     "text": [
      "\r",
      "[Stage 47:===================================================>(3451 + 2) / 3453]\r",
      "\r",
      "                                                                                \r"
     ]
    }
   ],
   "source": [
    "words = ['سیاست', 'تاریخ', 'قانون', 'اقتصاد', 'مهندسی', 'پزشکی']\n",
    "counts = []\n",
    "\n",
    "for word in words:\n",
    "    counts.append(articles_cleaned_rdd.filter(lambda x: word in x['text']).count())\n",
    "\n",
    "article_count = articles_cleaned_rdd.count()\n",
    "for i, count in enumerate(counts):\n",
    "    print(f'{words[i]}:      {count}      {round(count/article_count*100 ,2)}%')"
   ]
  },
  {
   "cell_type": "markdown",
   "metadata": {
    "id": "JS2K-g_4TYtK"
   },
   "source": [
    "# Section 4: TF-IDF + Searching (55 Points)"
   ]
  },
  {
   "cell_type": "code",
   "execution_count": 18,
   "metadata": {
    "id": "FsJEBmbrTYtK"
   },
   "outputs": [
    {
     "name": "stderr",
     "output_type": "stream",
     "text": [
      "                                                                                \r"
     ]
    }
   ],
   "source": [
    "def words_in_document(document):\n",
    "    words = set((document['text'] + \" \" + document['title']).strip().split(' '))\n",
    "    return [(word, 1) for word in words]\n",
    "\n",
    "word_df_rdd = articles_cleaned_rdd.flatMap(words_in_document)\n",
    "word_df_rdd = word_df_rdd.reduceByKey(add)\n",
    "word_df_rdd = sc.broadcast(dict(word_df_rdd.collect()))"
   ]
  },
  {
   "cell_type": "code",
   "execution_count": 19,
   "metadata": {},
   "outputs": [],
   "source": [
    "def td_idf_vector(document):\n",
    "    text = document['title'] + ' ' + document['text']\n",
    "    text = text.strip()\n",
    "    words = text.split(' ')\n",
    "    unique_words = set(words)\n",
    "    tf_dict = {word: words.count(word) for word in unique_words}\n",
    "    d = len(words)\n",
    "    \n",
    "    tf_idf_dict = {word: tf_dict[word]/(1 + 0.003*d)*math.log10(1 + article_count/word_df_rdd.value[word]) for word in unique_words}\n",
    "    document['vector'] = tf_idf_dict\n",
    "    return document\n",
    "\n",
    "articles_tf_idf_vectors = articles_cleaned_rdd.map(td_idf_vector)"
   ]
  },
  {
   "cell_type": "code",
   "execution_count": 25,
   "metadata": {},
   "outputs": [
    {
     "name": "stderr",
     "output_type": "stream",
     "text": [
      "Exception in thread \"serve RDD 107\" java.net.SocketTimeoutException: Accept timed out\n",
      "\tat java.base/java.net.PlainSocketImpl.socketAccept(Native Method)\n",
      "\tat java.base/java.net.AbstractPlainSocketImpl.accept(AbstractPlainSocketImpl.java:474)\n",
      "\tat java.base/java.net.ServerSocket.implAccept(ServerSocket.java:565)\n",
      "\tat java.base/java.net.ServerSocket.accept(ServerSocket.java:533)\n",
      "\tat org.apache.spark.security.SocketAuthServer$$anon$1.run(SocketAuthServer.scala:64)\n",
      "                                                                                \r"
     ]
    }
   ],
   "source": [
    "def calulate_score(document, rel_words):\n",
    "    score = 0\n",
    "    for word in rel_words:\n",
    "        score += document['vector'].get(word, 0)\n",
    "    return score\n",
    "\n",
    "words_dict = {\n",
    "    'اقتصاد': ['اقتصادی', 'اقتصاددان', 'وزات', 'اقتصاد', 'وزیر', 'وزارت', 'مالی', 'ثروت', 'کار', 'دولت', 'کشور', 'جهانی', 'ایران', 'کسب'],\n",
    "    'سیاست' : ['سیاست', 'وزیر', 'جمهور', 'جمهوری', 'ایران', 'نخست', 'کشور', 'شورا', 'مجلس', 'رئیس', 'دولت', 'انتخابات'],\n",
    "    'قانون': ['قانون', 'اساسی', 'مجلس', 'رئیس', 'جمهور', 'تصویب', 'سال', 'حقوق', 'قانونی', 'قوانین', 'دولت', 'دادگاه'],\n",
    "    'تاریخ': ['تاریخ', 'ثبت', 'شماره', 'ملی', 'آثار', 'اثر', 'ایران', 'شهرستان', 'تاریخی', 'تقویم', 'دوران', 'قدیم', 'قدیمی', 'گذشته', 'باستانی'],\n",
    "    'مهندسی': ['مهندسی', 'مهندس', 'دانشگاه', 'دانشکده', 'برق', 'مکانیک', 'صنایع', 'صنعت', 'تکنولوژی', 'ساخت', 'شیمی', 'شرکت', 'پیشرفت', 'رشته', 'علوم', 'فناوری', 'زمینه'],\n",
    "    'پزشکی': ['دارو', 'پزشکی', 'پزشک', 'بیمارستان', 'بیماری', 'درمان', 'بهداشت', 'مراقبت', 'بیمار', 'تشخیص', 'بالینی', 'بهبود', ' علائم', ' معاینه', 'متخصصان']\n",
    "}\n",
    "\n",
    "top_related_articles = dict()\n",
    "\n",
    "for word in words_dict.keys():\n",
    "    top_related = articles_tf_idf_vectors.sortBy(partial(calulate_score, rel_words=words_dict[word]), ascending=False)\n",
    "    top_related_articles[word] = top_related.take(5)"
   ]
  },
  {
   "cell_type": "code",
   "execution_count": 26,
   "metadata": {},
   "outputs": [
    {
     "name": "stdout",
     "output_type": "stream",
     "text": [
      "========== اقتصاد ==========\n",
      "1- ثروت\n",
      "https://fa.wikipedia.org/wiki?curid=692243\n",
      "----------------------------------------\n",
      "2- دانشکده اقتصاد دانشگاه علامه طباطبایی\n",
      "https://fa.wikipedia.org/wiki?curid=4839725\n",
      "----------------------------------------\n",
      "3- وزارت اقتصاد دارایی کره جنوبی\n",
      "https://fa.wikipedia.org/wiki?curid=5645113\n",
      "----------------------------------------\n",
      "4- سیاست مالی\n",
      "https://fa.wikipedia.org/wiki?curid=1111697\n",
      "----------------------------------------\n",
      "5- حقوق اقتصادی\n",
      "https://fa.wikipedia.org/wiki?curid=1493831\n",
      "----------------------------------------\n",
      "========== سیاست ==========\n",
      "1- معاون رئیس جمهور ایالات متحده آمریکا\n",
      "https://fa.wikipedia.org/wiki?curid=111242\n",
      "----------------------------------------\n",
      "2- رئیس جمهور روسیه\n",
      "https://fa.wikipedia.org/wiki?curid=519851\n",
      "----------------------------------------\n",
      "3- دولت کره جنوبی\n",
      "https://fa.wikipedia.org/wiki?curid=5834683\n",
      "----------------------------------------\n",
      "4- رئیس جمهور فرانسه\n",
      "https://fa.wikipedia.org/wiki?curid=2541555\n",
      "----------------------------------------\n",
      "5- معاون رئیس جمهور کلمبیا\n",
      "https://fa.wikipedia.org/wiki?curid=5815395\n",
      "----------------------------------------\n",
      "========== قانون ==========\n",
      "1- رئیس جمهور روسیه\n",
      "https://fa.wikipedia.org/wiki?curid=519851\n",
      "----------------------------------------\n",
      "2- قانون اساسی\n",
      "https://fa.wikipedia.org/wiki?curid=2232\n",
      "----------------------------------------\n",
      "3- معاون رئیس جمهور ایالات متحده آمریکا\n",
      "https://fa.wikipedia.org/wiki?curid=111242\n",
      "----------------------------------------\n",
      "4- رئیس جمهور کلمبیا\n",
      "https://fa.wikipedia.org/wiki?curid=5801813\n",
      "----------------------------------------\n",
      "5- شورای قانون اساسی فرانسه\n",
      "https://fa.wikipedia.org/wiki?curid=3964697\n",
      "----------------------------------------\n",
      "========== تاریخ ==========\n",
      "1- آثار ملی ایران\n",
      "https://fa.wikipedia.org/wiki?curid=339873\n",
      "----------------------------------------\n",
      "2- تقویم جنوب ایران\n",
      "https://fa.wikipedia.org/wiki?curid=1206779\n",
      "----------------------------------------\n",
      "3- تاریخچه ثبت ملی اماکن تاریخی\n",
      "https://fa.wikipedia.org/wiki?curid=5878488\n",
      "----------------------------------------\n",
      "4- گاه شماری سلتی\n",
      "https://fa.wikipedia.org/wiki?curid=4796994\n",
      "----------------------------------------\n",
      "5- تقویم\n",
      "https://fa.wikipedia.org/wiki?curid=1417\n",
      "----------------------------------------\n",
      "========== مهندسی ==========\n",
      "1- فهرست دانشگاه دولتی ایران\n",
      "https://fa.wikipedia.org/wiki?curid=4892616\n",
      "----------------------------------------\n",
      "2- دانشگاه شیراز\n",
      "https://fa.wikipedia.org/wiki?curid=30987\n",
      "----------------------------------------\n",
      "3- دانشگاه خلیج فارس\n",
      "https://fa.wikipedia.org/wiki?curid=630876\n",
      "----------------------------------------\n",
      "4- دانشگاه صنعتی شیراز\n",
      "https://fa.wikipedia.org/wiki?curid=30565\n",
      "----------------------------------------\n",
      "5- دانشگاه صنعتی نوشیروانی بابل\n",
      "https://fa.wikipedia.org/wiki?curid=1517178\n",
      "----------------------------------------\n",
      "========== پزشکی ==========\n",
      "1- مدینه الطب\n",
      "https://fa.wikipedia.org/wiki?curid=4633246\n",
      "----------------------------------------\n",
      "2- پزشکی\n",
      "https://fa.wikipedia.org/wiki?curid=1007\n",
      "----------------------------------------\n",
      "3- بیماری نادر\n",
      "https://fa.wikipedia.org/wiki?curid=924846\n",
      "----------------------------------------\n",
      "4- بیمارستان\n",
      "https://fa.wikipedia.org/wiki?curid=12975\n",
      "----------------------------------------\n",
      "5- مراقبت بیمار بستری\n",
      "https://fa.wikipedia.org/wiki?curid=5813649\n",
      "----------------------------------------\n"
     ]
    }
   ],
   "source": [
    "for word in words_dict.keys():\n",
    "    print(f'========== {word} ==========')\n",
    "    for i, article in enumerate(top_related_articles[word]):\n",
    "        print(f\"{i+1}- {article['title']}\")\n",
    "        print(article['url'])\n",
    "        print('-'*40)"
   ]
  },
  {
   "cell_type": "code",
   "execution_count": 27,
   "metadata": {},
   "outputs": [
    {
     "name": "stderr",
     "output_type": "stream",
     "text": [
      "[Stage 125:==================================================>(3450 + 3) / 3453]\r"
     ]
    },
    {
     "name": "stdout",
     "output_type": "stream",
     "text": [
      "articles related to:\n",
      "====================\n",
      "اقتصاد:\n",
      "2.33%\n",
      "====================\n",
      "سیاست:\n",
      "2.00%\n",
      "====================\n",
      "قانون:\n",
      "1.96%\n",
      "====================\n",
      "تاریخ:\n",
      "3.73%\n",
      "====================\n",
      "مهندسی:\n",
      "2.01%\n",
      "====================\n",
      "پزشکی:\n",
      "1.32%\n",
      "====================\n"
     ]
    },
    {
     "name": "stderr",
     "output_type": "stream",
     "text": [
      "\r",
      "                                                                                \r"
     ]
    }
   ],
   "source": [
    "percentage_of_related_articles = []\n",
    "\n",
    "for word in  words_dict.keys():\n",
    "    scores_rdd = articles_tf_idf_vectors.map(lambda x: calulate_score(x, words_dict[word]))\n",
    "    score_mean = scores_rdd.mean()\n",
    "    score_std = math.sqrt(scores_rdd.variance())\n",
    "    thresh = score_mean + 2.5 * score_std\n",
    "    percentage_of_related_articles.append(scores_rdd.filter(lambda x: x>thresh).count()/article_count*100)\n",
    "\n",
    "print('articles related to:')\n",
    "print('='*20)\n",
    "for i, word in  enumerate(words_dict.keys()):\n",
    "    print(f'{word}:')\n",
    "    print(f'{percentage_of_related_articles[i]:0.2f}%')\n",
    "    print('='*20)\n",
    "\n",
    "    \n",
    "    "
   ]
  },
  {
   "cell_type": "markdown",
   "metadata": {
    "id": "UZn3_bnLTYtL"
   },
   "source": [
    "## Searching\n",
    "In this section you should find articles that are about the topics mentioned in the last part of the third section.\n",
    "Report the percentage of articles that are about the mentioned topics, for example, report what percentage of the articles were about history?\n",
    "For each topic, report two of the most relevant articles along with the title and the url.\n",
    "Check this part in **theory** before practical implementation (Hint: Use the concept of tf-idf).\n",
    "All innovative solutions are also welcome. Compare the obtained results with the third part."
   ]
  }
 ],
 "metadata": {
  "colab": {
   "collapsed_sections": [],
   "provenance": []
  },
  "kernelspec": {
   "display_name": "Python 3 (ipykernel)",
   "language": "python",
   "name": "python3"
  },
  "language_info": {
   "codemirror_mode": {
    "name": "ipython",
    "version": 3
   },
   "file_extension": ".py",
   "mimetype": "text/x-python",
   "name": "python",
   "nbconvert_exporter": "python",
   "pygments_lexer": "ipython3",
   "version": "3.10.6"
  },
  "name": "SUT - Data Mining Spark Exercise",
  "notebookId": 3958686303135329,
  "toc": {
   "base_numbering": 1,
   "nav_menu": {},
   "number_sections": true,
   "sideBar": true,
   "skip_h1_title": false,
   "title_cell": "Table of Contents",
   "title_sidebar": "Contents",
   "toc_cell": false,
   "toc_position": {},
   "toc_section_display": true,
   "toc_window_display": false
  }
 },
 "nbformat": 4,
 "nbformat_minor": 1
}
